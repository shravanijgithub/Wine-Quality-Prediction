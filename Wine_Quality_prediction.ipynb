{
  "cells": [
    {
      "cell_type": "code",
      "execution_count": 3,
      "metadata": {
        "id": "e9jza6t-oHyO"
      },
      "outputs": [],
      "source": [
        "import pandas as pd\n",
        "import numpy as np\n",
        "import matplotlib.pyplot as plt\n",
        "import seaborn as sns\n",
        "\n",
        "from sklearn.neighbors import KNeighborsClassifier\n",
        "from sklearn.ensemble import RandomForestClassifier\n",
        "from sklearn.tree import DecisionTreeClassifier\n",
        "from sklearn.linear_model import SGDClassifier\n",
        "from sklearn.model_selection import train_test_split\n",
        "from sklearn.metrics import classification_report\n",
        "from sklearn.preprocessing import StandardScaler\n",
        "from sklearn.model_selection import RandomizedSearchCV, cross_val_score\n"
      ]
    },
    {
      "cell_type": "code",
      "execution_count": 4,
      "metadata": {
        "id": "DtTOsDFtoHyQ"
      },
      "outputs": [],
      "source": [
        "\n",
        "df = pd.read_csv('/content/winequality-white (1).csv')\n"
      ]
    },
    {
      "cell_type": "code",
      "execution_count": null,
      "metadata": {
        "id": "grkqSJMloHyR",
        "outputId": "933037f7-e0a9-46f1-fdab-01ff7321599b"
      },
      "outputs": [
        {
          "data": {
            "text/html": [
              "<div>\n",
              "<style scoped>\n",
              "    .dataframe tbody tr th:only-of-type {\n",
              "        vertical-align: middle;\n",
              "    }\n",
              "\n",
              "    .dataframe tbody tr th {\n",
              "        vertical-align: top;\n",
              "    }\n",
              "\n",
              "    .dataframe thead th {\n",
              "        text-align: right;\n",
              "    }\n",
              "</style>\n",
              "<table border=\"1\" class=\"dataframe\">\n",
              "  <thead>\n",
              "    <tr style=\"text-align: right;\">\n",
              "      <th></th>\n",
              "      <th>fixed acidity</th>\n",
              "      <th>volatile acidity</th>\n",
              "      <th>citric acid</th>\n",
              "      <th>residual sugar</th>\n",
              "      <th>chlorides</th>\n",
              "      <th>free sulfur dioxide</th>\n",
              "      <th>total sulfur dioxide</th>\n",
              "      <th>density</th>\n",
              "      <th>pH</th>\n",
              "      <th>sulphates</th>\n",
              "      <th>alcohol</th>\n",
              "      <th>quality</th>\n",
              "    </tr>\n",
              "  </thead>\n",
              "  <tbody>\n",
              "    <tr>\n",
              "      <th>0</th>\n",
              "      <td>7.0</td>\n",
              "      <td>0.27</td>\n",
              "      <td>0.36</td>\n",
              "      <td>20.7</td>\n",
              "      <td>0.045</td>\n",
              "      <td>45.0</td>\n",
              "      <td>170.0</td>\n",
              "      <td>1.0010</td>\n",
              "      <td>3.00</td>\n",
              "      <td>0.45</td>\n",
              "      <td>8.8</td>\n",
              "      <td>6</td>\n",
              "    </tr>\n",
              "    <tr>\n",
              "      <th>1</th>\n",
              "      <td>6.3</td>\n",
              "      <td>0.30</td>\n",
              "      <td>0.34</td>\n",
              "      <td>1.6</td>\n",
              "      <td>0.049</td>\n",
              "      <td>14.0</td>\n",
              "      <td>132.0</td>\n",
              "      <td>0.9940</td>\n",
              "      <td>3.30</td>\n",
              "      <td>0.49</td>\n",
              "      <td>9.5</td>\n",
              "      <td>6</td>\n",
              "    </tr>\n",
              "    <tr>\n",
              "      <th>2</th>\n",
              "      <td>8.1</td>\n",
              "      <td>0.28</td>\n",
              "      <td>0.40</td>\n",
              "      <td>6.9</td>\n",
              "      <td>0.050</td>\n",
              "      <td>30.0</td>\n",
              "      <td>97.0</td>\n",
              "      <td>0.9951</td>\n",
              "      <td>3.26</td>\n",
              "      <td>0.44</td>\n",
              "      <td>10.1</td>\n",
              "      <td>6</td>\n",
              "    </tr>\n",
              "    <tr>\n",
              "      <th>3</th>\n",
              "      <td>7.2</td>\n",
              "      <td>0.23</td>\n",
              "      <td>0.32</td>\n",
              "      <td>8.5</td>\n",
              "      <td>0.058</td>\n",
              "      <td>47.0</td>\n",
              "      <td>186.0</td>\n",
              "      <td>0.9956</td>\n",
              "      <td>3.19</td>\n",
              "      <td>0.40</td>\n",
              "      <td>9.9</td>\n",
              "      <td>6</td>\n",
              "    </tr>\n",
              "    <tr>\n",
              "      <th>4</th>\n",
              "      <td>7.2</td>\n",
              "      <td>0.23</td>\n",
              "      <td>0.32</td>\n",
              "      <td>8.5</td>\n",
              "      <td>0.058</td>\n",
              "      <td>47.0</td>\n",
              "      <td>186.0</td>\n",
              "      <td>0.9956</td>\n",
              "      <td>3.19</td>\n",
              "      <td>0.40</td>\n",
              "      <td>9.9</td>\n",
              "      <td>6</td>\n",
              "    </tr>\n",
              "  </tbody>\n",
              "</table>\n",
              "</div>"
            ],
            "text/plain": [
              "   fixed acidity  volatile acidity  citric acid  residual sugar  chlorides  \\\n",
              "0            7.0              0.27         0.36            20.7      0.045   \n",
              "1            6.3              0.30         0.34             1.6      0.049   \n",
              "2            8.1              0.28         0.40             6.9      0.050   \n",
              "3            7.2              0.23         0.32             8.5      0.058   \n",
              "4            7.2              0.23         0.32             8.5      0.058   \n",
              "\n",
              "   free sulfur dioxide  total sulfur dioxide  density    pH  sulphates  \\\n",
              "0                 45.0                 170.0   1.0010  3.00       0.45   \n",
              "1                 14.0                 132.0   0.9940  3.30       0.49   \n",
              "2                 30.0                  97.0   0.9951  3.26       0.44   \n",
              "3                 47.0                 186.0   0.9956  3.19       0.40   \n",
              "4                 47.0                 186.0   0.9956  3.19       0.40   \n",
              "\n",
              "   alcohol  quality  \n",
              "0      8.8        6  \n",
              "1      9.5        6  \n",
              "2     10.1        6  \n",
              "3      9.9        6  \n",
              "4      9.9        6  "
            ]
          },
          "execution_count": 3,
          "metadata": {},
          "output_type": "execute_result"
        }
      ],
      "source": [
        "df.head()\n"
      ]
    },
    {
      "cell_type": "markdown",
      "metadata": {
        "id": "MmQaoj9eoHyR"
      },
      "source": [
        "# Initial Visual Analysis"
      ]
    },
    {
      "cell_type": "code",
      "execution_count": null,
      "metadata": {
        "id": "8Q3QJ5qjoHyT",
        "outputId": "81db2f6f-f720-463d-f947-5a72b847c7dc"
      },
      "outputs": [
        {
          "data": {
            "text/plain": [
              "<AxesSubplot:xlabel='quality', ylabel='volatile acidity'>"
            ]
          },
          "execution_count": 28,
          "metadata": {},
          "output_type": "execute_result"
        },
        {
          "data": {
            "image/png": "[encoded data removed]",
            "text/plain": [
              "<Figure size 720x432 with 1 Axes>"
            ]
          },
          "metadata": {
            "needs_background": "light"
          },
          "output_type": "display_data"
        }
      ],
      "source": [
        "#Here we see that its quite a downing trend in the volatile acidity as we go higher the quality\n",
        "fig = plt.figure(figsize = (10,6))\n",
        "sns.barplot(x = 'quality', y = 'volatile acidity', data = df)"
      ]
    },
    {
      "cell_type": "code",
      "execution_count": null,
      "metadata": {
        "id": "p8FHc2_DoHyT",
        "outputId": "f7913bc4-bd7d-4d6a-80e8-059933b8283b"
      },
      "outputs": [
        {
          "data": {
            "text/plain": [
              "<AxesSubplot:xlabel='quality', ylabel='citric acid'>"
            ]
          },
          "execution_count": 29,
          "metadata": {},
          "output_type": "execute_result"
        },
        {
          "data": {
            "image/png": "[encoded data removed]",
            "text/plain": [
              "<Figure size 720x432 with 1 Axes>"
            ]
          },
          "metadata": {
            "needs_background": "light"
          },
          "output_type": "display_data"
        }
      ],
      "source": [
        "#Composition of citric acid go higher as we go higher in the quality of the wine\n",
        "fig = plt.figure(figsize = (10,6))\n",
        "sns.barplot(x = 'quality', y = 'citric acid', data = df)\n"
      ]
    },
    {
      "cell_type": "code",
      "execution_count": null,
      "metadata": {
        "id": "2wplJi16oHyT",
        "outputId": "f6590a5d-a9a6-49b8-e696-f50c79bd25b8"
      },
      "outputs": [
        {
          "data": {
            "text/plain": [
              "<AxesSubplot:xlabel='quality', ylabel='residual sugar'>"
            ]
          },
          "execution_count": 31,
          "metadata": {},
          "output_type": "execute_result"
        },
        {
          "data": {
            "image/png": "[encoded data removed]",
            "text/plain": [
              "<Figure size 720x432 with 1 Axes>"
            ]
          },
          "metadata": {
            "needs_background": "light"
          },
          "output_type": "display_data"
        }
      ],
      "source": [
        "fig = plt.figure(figsize=(10,6))\n",
        "sns.barplot(x='quality', y = 'residual sugar', data=df)"
      ]
    },
    {
      "cell_type": "code",
      "execution_count": null,
      "metadata": {
        "id": "ktyf4FKYoHyU",
        "outputId": "17b5ac0e-af97-4e44-ad3a-56c63f07df7f"
      },
      "outputs": [
        {
          "data": {
            "text/plain": [
              "<AxesSubplot:xlabel='quality', ylabel='chlorides'>"
            ]
          },
          "execution_count": 32,
          "metadata": {},
          "output_type": "execute_result"
        },
        {
          "data": {
            "image/png": "[encoded data removed]",
            "text/plain": [
              "<Figure size 720x432 with 1 Axes>"
            ]
          },
          "metadata": {
            "needs_background": "light"
          },
          "output_type": "display_data"
        }
      ],
      "source": [
        "#Composition of chloride also go down as we go higher in the quality of the wine\n",
        "fig = plt.figure(figsize = (10,6))\n",
        "sns.barplot(x = 'quality', y = 'chlorides', data=df)"
      ]
    },
    {
      "cell_type": "code",
      "execution_count": null,
      "metadata": {
        "id": "gx5OOce-oHyU",
        "outputId": "2ea144e4-4e78-4575-e868-094bdb6d5c7f"
      },
      "outputs": [
        {
          "data": {
            "image/png": "[encoded data removed]",
            "text/plain": [
              "<Figure size 3600x504 with 1 Axes>"
            ]
          },
          "metadata": {
            "needs_background": "light"
          },
          "output_type": "display_data"
        }
      ],
      "source": [
        "plt.figure(figsize = (50,7))\n",
        "ax = sns.barplot(x = \"alcohol\", y = \"quality\", data = df)\n"
      ]
    },
    {
      "cell_type": "code",
      "execution_count": null,
      "metadata": {
        "id": "wk-UhWt5oHyV",
        "outputId": "d6bfe2d0-a3ca-42a2-f947-6f134d136a83"
      },
      "outputs": [
        {
          "name": "stderr",
          "output_type": "stream",
          "text": [
            "C:\\Users\\Saurav\\Anaconda3\\lib\\site-packages\\seaborn\\_decorators.py:36: FutureWarning: Pass the following variable as a keyword arg: x. From version 0.12, the only valid positional argument will be `data`, and passing other arguments without an explicit keyword will result in an error or misinterpretation.\n",
            "  warnings.warn(\n"
          ]
        },
        {
          "data": {
            "text/plain": [
              "<AxesSubplot:xlabel='quality', ylabel='count'>"
            ]
          },
          "execution_count": 35,
          "metadata": {},
          "output_type": "execute_result"
        },
        {
          "data": {
            "image/png": "[encoded data removed]",
            "text/plain": [
              "<Figure size 432x288 with 1 Axes>"
            ]
          },
          "metadata": {
            "needs_background": "light"
          },
          "output_type": "display_data"
        }
      ],
      "source": [
        "sns.countplot(df['quality'])"
      ]
    },
    {
      "cell_type": "code",
      "execution_count": null,
      "metadata": {
        "id": "zU2knkiIoHyV",
        "outputId": "34f7dced-c744-46ce-c2b8-fd4aeda47200"
      },
      "outputs": [
        {
          "name": "stderr",
          "output_type": "stream",
          "text": [
            "C:\\Users\\Saurav\\Anaconda3\\lib\\site-packages\\seaborn\\axisgrid.py:1912: UserWarning: The `size` parameter has been renamed to `height`; please update your code.\n",
            "  warnings.warn(msg, UserWarning)\n"
          ]
        },
        {
          "data": {
            "text/plain": [
              "<seaborn.axisgrid.PairGrid at 0x1cc639063a0>"
            ]
          },
          "execution_count": 36,
          "metadata": {},
          "output_type": "execute_result"
        },
        {
          "data": {
            "image/png": "[encoded data removed]",
            "text/plain": [
              "<Figure size 2772x504 with 11 Axes>"
            ]
          },
          "metadata": {
            "needs_background": "light"
          },
          "output_type": "display_data"
        }
      ],
      "source": [
        "features = ['fixed acidity', 'volatile acidity', 'citric acid', 'residual sugar',\n",
        "       'chlorides', 'free sulfur dioxide', 'total sulfur dioxide', 'density',\n",
        "       'pH', 'sulphates', 'alcohol']\n",
        "\n",
        "x = df[features]\n",
        "y = df['quality']\n",
        "\n",
        "# Plotting features vs quality\n",
        "sns.pairplot(df, x_vars = features, y_vars = 'quality', kind = 'reg', size = 7, aspect = 0.5)"
      ]
    },
    {
      "cell_type": "code",
      "execution_count": null,
      "metadata": {
        "id": "BLGdaHgIoHyV",
        "outputId": "b1ff66a8-bf88-44b7-8fdc-80bae01fc8b0"
      },
      "outputs": [
        {
          "data": {
            "text/plain": [
              "<AxesSubplot:xlabel='fixed acidity', ylabel='quality'>"
            ]
          },
          "execution_count": 37,
          "metadata": {},
          "output_type": "execute_result"
        },
        {
          "data": {
            "image/png": "[encoded data removed]",
            "text/plain": [
              "<Figure size 432x288 with 1 Axes>"
            ]
          },
          "metadata": {
            "needs_background": "light"
          },
          "output_type": "display_data"
        }
      ],
      "source": [
        "sns.barplot(x='fixed acidity', y='quality', data=df)"
      ]
    },
    {
      "cell_type": "markdown",
      "metadata": {
        "id": "jNJuzai4oHyV"
      },
      "source": [
        "# Gathering the training and testing Data"
      ]
    },
    {
      "cell_type": "code",
      "execution_count": null,
      "metadata": {
        "id": "7oYFHmaAoHyV"
      },
      "outputs": [],
      "source": [
        "# Since the numbers 3-9 don't really mean much, lets map these to low (0), mid(1), and high(2)\n",
        "bins = [0,5.5,7.5,10] # this means 3-5 are low, 6-7 are mid, 8-9 are high\n",
        "labels = [0,1,2]\n",
        "df['quality'] = pd.cut(df['quality'], bins=bins, labels=labels)"
      ]
    },
    {
      "cell_type": "code",
      "execution_count": null,
      "metadata": {
        "id": "DZaiKs6voHyV",
        "outputId": "225342fc-cd56-4a81-e066-9de5115b7573"
      },
      "outputs": [
        {
          "data": {
            "text/html": [
              "<div>\n",
              "<style scoped>\n",
              "    .dataframe tbody tr th:only-of-type {\n",
              "        vertical-align: middle;\n",
              "    }\n",
              "\n",
              "    .dataframe tbody tr th {\n",
              "        vertical-align: top;\n",
              "    }\n",
              "\n",
              "    .dataframe thead th {\n",
              "        text-align: right;\n",
              "    }\n",
              "</style>\n",
              "<table border=\"1\" class=\"dataframe\">\n",
              "  <thead>\n",
              "    <tr style=\"text-align: right;\">\n",
              "      <th></th>\n",
              "      <th>fixed acidity</th>\n",
              "      <th>volatile acidity</th>\n",
              "      <th>citric acid</th>\n",
              "      <th>residual sugar</th>\n",
              "      <th>chlorides</th>\n",
              "      <th>free sulfur dioxide</th>\n",
              "      <th>total sulfur dioxide</th>\n",
              "      <th>density</th>\n",
              "      <th>pH</th>\n",
              "      <th>sulphates</th>\n",
              "      <th>alcohol</th>\n",
              "      <th>quality</th>\n",
              "    </tr>\n",
              "  </thead>\n",
              "  <tbody>\n",
              "    <tr>\n",
              "      <th>0</th>\n",
              "      <td>7.0</td>\n",
              "      <td>0.27</td>\n",
              "      <td>0.36</td>\n",
              "      <td>20.7</td>\n",
              "      <td>0.045</td>\n",
              "      <td>45.0</td>\n",
              "      <td>170.0</td>\n",
              "      <td>1.0010</td>\n",
              "      <td>3.00</td>\n",
              "      <td>0.45</td>\n",
              "      <td>8.8</td>\n",
              "      <td>1</td>\n",
              "    </tr>\n",
              "    <tr>\n",
              "      <th>1</th>\n",
              "      <td>6.3</td>\n",
              "      <td>0.30</td>\n",
              "      <td>0.34</td>\n",
              "      <td>1.6</td>\n",
              "      <td>0.049</td>\n",
              "      <td>14.0</td>\n",
              "      <td>132.0</td>\n",
              "      <td>0.9940</td>\n",
              "      <td>3.30</td>\n",
              "      <td>0.49</td>\n",
              "      <td>9.5</td>\n",
              "      <td>1</td>\n",
              "    </tr>\n",
              "    <tr>\n",
              "      <th>2</th>\n",
              "      <td>8.1</td>\n",
              "      <td>0.28</td>\n",
              "      <td>0.40</td>\n",
              "      <td>6.9</td>\n",
              "      <td>0.050</td>\n",
              "      <td>30.0</td>\n",
              "      <td>97.0</td>\n",
              "      <td>0.9951</td>\n",
              "      <td>3.26</td>\n",
              "      <td>0.44</td>\n",
              "      <td>10.1</td>\n",
              "      <td>1</td>\n",
              "    </tr>\n",
              "    <tr>\n",
              "      <th>3</th>\n",
              "      <td>7.2</td>\n",
              "      <td>0.23</td>\n",
              "      <td>0.32</td>\n",
              "      <td>8.5</td>\n",
              "      <td>0.058</td>\n",
              "      <td>47.0</td>\n",
              "      <td>186.0</td>\n",
              "      <td>0.9956</td>\n",
              "      <td>3.19</td>\n",
              "      <td>0.40</td>\n",
              "      <td>9.9</td>\n",
              "      <td>1</td>\n",
              "    </tr>\n",
              "    <tr>\n",
              "      <th>4</th>\n",
              "      <td>7.2</td>\n",
              "      <td>0.23</td>\n",
              "      <td>0.32</td>\n",
              "      <td>8.5</td>\n",
              "      <td>0.058</td>\n",
              "      <td>47.0</td>\n",
              "      <td>186.0</td>\n",
              "      <td>0.9956</td>\n",
              "      <td>3.19</td>\n",
              "      <td>0.40</td>\n",
              "      <td>9.9</td>\n",
              "      <td>1</td>\n",
              "    </tr>\n",
              "  </tbody>\n",
              "</table>\n",
              "</div>"
            ],
            "text/plain": [
              "   fixed acidity  volatile acidity  citric acid  residual sugar  chlorides  \\\n",
              "0            7.0              0.27         0.36            20.7      0.045   \n",
              "1            6.3              0.30         0.34             1.6      0.049   \n",
              "2            8.1              0.28         0.40             6.9      0.050   \n",
              "3            7.2              0.23         0.32             8.5      0.058   \n",
              "4            7.2              0.23         0.32             8.5      0.058   \n",
              "\n",
              "   free sulfur dioxide  total sulfur dioxide  density    pH  sulphates  \\\n",
              "0                 45.0                 170.0   1.0010  3.00       0.45   \n",
              "1                 14.0                 132.0   0.9940  3.30       0.49   \n",
              "2                 30.0                  97.0   0.9951  3.26       0.44   \n",
              "3                 47.0                 186.0   0.9956  3.19       0.40   \n",
              "4                 47.0                 186.0   0.9956  3.19       0.40   \n",
              "\n",
              "   alcohol quality  \n",
              "0      8.8       1  \n",
              "1      9.5       1  \n",
              "2     10.1       1  \n",
              "3      9.9       1  \n",
              "4      9.9       1  "
            ]
          },
          "execution_count": 8,
          "metadata": {},
          "output_type": "execute_result"
        }
      ],
      "source": [
        "df.head()"
      ]
    },
    {
      "cell_type": "code",
      "execution_count": null,
      "metadata": {
        "id": "AYqRga0IoHyW"
      },
      "outputs": [],
      "source": [
        "x = df[df.columns[:-1]]\n",
        "y = df['quality']\n",
        "sc = StandardScaler()\n",
        "x = sc.fit_transform(x)\n",
        "\n",
        "x_train, x_test, y_train, y_test = train_test_split(x, y, test_size = 0.2, random_state = 42)\n",
        "# This means that we initialize 80% of data for training, and 20% data for testing."
      ]
    },
    {
      "cell_type": "code",
      "execution_count": null,
      "metadata": {
        "id": "zJMPV6IvoHyW",
        "outputId": "e47fb8f3-b9ac-45d7-9dcb-9a77e1682d48"
      },
      "outputs": [
        {
          "name": "stdout",
          "output_type": "stream",
          "text": [
            "count     3918\n",
            "unique       3\n",
            "top          1\n",
            "freq      2454\n",
            "Name: quality, dtype: int64\n",
            "count     980\n",
            "unique      3\n",
            "top         1\n",
            "freq      624\n",
            "Name: quality, dtype: int64\n"
          ]
        }
      ],
      "source": [
        "for data in [y_train, y_test]:\n",
        "    print(data.describe())\n",
        "# We have initialized 3918 dataset for training and 980 dataset for testing"
      ]
    },
    {
      "cell_type": "markdown",
      "metadata": {
        "id": "9ZLoFG1noHyW"
      },
      "source": [
        "# K Nearest Neighbors Classifier"
      ]
    },
    {
      "cell_type": "code",
      "execution_count": null,
      "metadata": {
        "id": "PLFCaiS0oHyW",
        "outputId": "ee45d26b-3399-4d65-a72a-193cf5c38250"
      },
      "outputs": [
        {
          "name": "stdout",
          "output_type": "stream",
          "text": [
            "              precision    recall  f1-score   support\n",
            "\n",
            "           0       0.62      0.62      0.62       321\n",
            "           1       0.77      0.79      0.78       624\n",
            "           2       0.39      0.26      0.31        35\n",
            "\n",
            "    accuracy                           0.72       980\n",
            "   macro avg       0.60      0.56      0.57       980\n",
            "weighted avg       0.71      0.72      0.71       980\n",
            "\n",
            "0.7292016806722689\n"
          ]
        }
      ],
      "source": [
        "n3 = KNeighborsClassifier(n_neighbors = 3)\n",
        "n3.fit(x_train,y_train)\n",
        "pred_n3  =n3.predict(x_test)\n",
        "print(classification_report(y_test,pred_n3))\n",
        "cross_val = cross_val_score(estimator=n3, X=x_train,y=y_train,cv=10)\n",
        "print(cross_val.mean())\n"
      ]
    },
    {
      "cell_type": "code",
      "execution_count": null,
      "metadata": {
        "id": "L6aXqZdSoHyW",
        "outputId": "c0044d11-19b9-4362-d474-b76a371f3550"
      },
      "outputs": [
        {
          "name": "stdout",
          "output_type": "stream",
          "text": [
            "              precision    recall  f1-score   support\n",
            "\n",
            "           0       0.64      0.59      0.62       321\n",
            "           1       0.76      0.82      0.79       624\n",
            "           2       0.33      0.11      0.17        35\n",
            "\n",
            "    accuracy                           0.72       980\n",
            "   macro avg       0.58      0.51      0.52       980\n",
            "weighted avg       0.71      0.72      0.71       980\n",
            "\n",
            "0.7225618508272874\n"
          ]
        }
      ],
      "source": [
        "n5 = KNeighborsClassifier(n_neighbors = 5)\n",
        "n5.fit(x_train,y_train)\n",
        "pred_n5 = n5.predict(x_test)\n",
        "print(classification_report(y_test,pred_n5))\n",
        "cross_val = cross_val_score(estimator=n5, X=x_train, y=y_train, cv=10)\n",
        "print(cross_val.mean())\n"
      ]
    },
    {
      "cell_type": "markdown",
      "metadata": {
        "id": "skDsu_NXoHyW"
      },
      "source": [
        "# Random Forest Classifier"
      ]
    },
    {
      "cell_type": "code",
      "execution_count": null,
      "metadata": {
        "id": "4syWSEn2oHyW",
        "outputId": "9b881477-4da1-48c8-bd36-3940ff7d806e"
      },
      "outputs": [
        {
          "name": "stdout",
          "output_type": "stream",
          "text": [
            "              precision    recall  f1-score   support\n",
            "\n",
            "           0       0.80      0.73      0.76       321\n",
            "           1       0.84      0.91      0.87       624\n",
            "           2       1.00      0.43      0.60        35\n",
            "\n",
            "    accuracy                           0.83       980\n",
            "   macro avg       0.88      0.69      0.75       980\n",
            "weighted avg       0.83      0.83      0.83       980\n",
            "\n",
            "<built-in method mean of numpy.ndarray object at 0x000001CC5AC061C0>\n"
          ]
        }
      ],
      "source": [
        "rfc = RandomForestClassifier()\n",
        "rfc.fit(x_train,y_train)\n",
        "pred_rfc = rfc.predict(x_test)\n",
        "print(classification_report(y_test,pred_rfc))\n",
        "cross_val = cross_val_score(estimator=rfc, X=x_train, y=y_train, cv=10)\n",
        "print(cross_val.mean)\n"
      ]
    },
    {
      "cell_type": "markdown",
      "metadata": {
        "id": "b2nSY9oGoHyW"
      },
      "source": [
        "# Decision Tree Classifier"
      ]
    },
    {
      "cell_type": "code",
      "execution_count": null,
      "metadata": {
        "id": "dSK7ncVHoHyW",
        "outputId": "b09a47df-d8ce-4dd1-e349-074280bf4377"
      },
      "outputs": [
        {
          "name": "stdout",
          "output_type": "stream",
          "text": [
            "              precision    recall  f1-score   support\n",
            "\n",
            "           0       0.68      0.67      0.68       321\n",
            "           1       0.81      0.81      0.81       624\n",
            "           2       0.46      0.49      0.47        35\n",
            "\n",
            "    accuracy                           0.75       980\n",
            "   macro avg       0.65      0.66      0.65       980\n",
            "weighted avg       0.75      0.75      0.75       980\n",
            "\n",
            "0.7317520486455452\n"
          ]
        }
      ],
      "source": [
        "dt = DecisionTreeClassifier()\n",
        "dt.fit(x_train,y_train)\n",
        "pred_dt = dt.predict(x_test)\n",
        "print(classification_report(y_test,pred_dt))\n",
        "cross_val = cross_val_score(estimator=dt, X=x_train, y=y_train,cv=10)\n",
        "print(cross_val.mean())"
      ]
    },
    {
      "cell_type": "markdown",
      "metadata": {
        "id": "QnRnCSr_oHyW"
      },
      "source": [
        "# Stochastic Gradient Descent"
      ]
    },
    {
      "cell_type": "code",
      "execution_count": null,
      "metadata": {
        "id": "-U_BEAnYoHyW",
        "outputId": "00f56039-77c0-4cac-a6b9-5c52928a570e"
      },
      "outputs": [
        {
          "name": "stderr",
          "output_type": "stream",
          "text": [
            "C:\\Users\\Saurav\\Anaconda3\\lib\\site-packages\\sklearn\\metrics\\_classification.py:1221: UndefinedMetricWarning: Precision and F-score are ill-defined and being set to 0.0 in labels with no predicted samples. Use `zero_division` parameter to control this behavior.\n",
            "  _warn_prf(average, modifier, msg_start, len(result))\n"
          ]
        },
        {
          "name": "stdout",
          "output_type": "stream",
          "text": [
            "              precision    recall  f1-score   support\n",
            "\n",
            "           0       0.65      0.54      0.59       321\n",
            "           1       0.74      0.85      0.79       624\n",
            "           2       0.00      0.00      0.00        35\n",
            "\n",
            "    accuracy                           0.72       980\n",
            "   macro avg       0.47      0.46      0.46       980\n",
            "weighted avg       0.69      0.72      0.70       980\n",
            "\n",
            "0.7029144266402212\n"
          ]
        }
      ],
      "source": [
        "sgd = SGDClassifier()\n",
        "sgd.fit(x_train,y_train)\n",
        "pred_sgd = sgd.predict(x_test)\n",
        "print(classification_report(y_test, pred_sgd))\n",
        "cross_val = cross_val_score(estimator=sgd, X=x_train, y=y_train, cv=10)\n",
        "print(cross_val.mean())\n"
      ]
    },
    {
      "cell_type": "code",
      "execution_count": null,
      "metadata": {
        "id": "Pbz0lL_HoHyW",
        "outputId": "148856e1-bcdc-4a33-fbcc-8d54669b44aa"
      },
      "outputs": [
        {
          "name": "stdout",
          "output_type": "stream",
          "text": [
            "              precision    recall  f1-score   support\n",
            "\n",
            "           0       0.72      0.30      0.43       321\n",
            "           1       0.69      0.94      0.80       624\n",
            "           2       0.00      0.00      0.00        35\n",
            "\n",
            "    accuracy                           0.70       980\n",
            "   macro avg       0.47      0.41      0.41       980\n",
            "weighted avg       0.68      0.70      0.65       980\n",
            "\n",
            "0.7059671694764862\n"
          ]
        }
      ],
      "source": [
        "sgd = SGDClassifier()\n",
        "sgd.fit(x_train, y_train)\n",
        "pred_sgd = sgd.predict(x_test)\n",
        "print(classification_report(y_test, pred_sgd))\n",
        "cross_val = cross_val_score(estimator=sgd, X=x_train, y=y_train, cv=10)\n",
        "print(cross_val.mean())"
      ]
    },
    {
      "cell_type": "markdown",
      "metadata": {
        "id": "8hhoRwzcoHyW"
      },
      "source": [
        "# Steps To Improve Results"
      ]
    },
    {
      "cell_type": "code",
      "execution_count": null,
      "metadata": {
        "id": "0kkF9PUfoHyX",
        "outputId": "0fc9a4a3-b368-42f0-e0da-99ae7cf719e5"
      },
      "outputs": [
        {
          "name": "stdout",
          "output_type": "stream",
          "text": [
            "Fitting 3 folds for each of 100 candidates, totalling 300 fits\n",
            "[CV] n_estimators=1000, min_samples_split=10, min_samples_leaf=2, max_features=sqrt, max_depth=10, bootstrap=True \n"
          ]
        },
        {
          "name": "stderr",
          "output_type": "stream",
          "text": [
            "[Parallel(n_jobs=1)]: Using backend SequentialBackend with 1 concurrent workers.\n"
          ]
        },
        {
          "name": "stdout",
          "output_type": "stream",
          "text": [
            "[CV]  n_estimators=1000, min_samples_split=10, min_samples_leaf=2, max_features=sqrt, max_depth=10, bootstrap=True, total=   5.7s\n",
            "[CV] n_estimators=1000, min_samples_split=10, min_samples_leaf=2, max_features=sqrt, max_depth=10, bootstrap=True \n"
          ]
        },
        {
          "name": "stderr",
          "output_type": "stream",
          "text": [
            "[Parallel(n_jobs=1)]: Done   1 out of   1 | elapsed:    5.6s remaining:    0.0s\n"
          ]
        },
        {
          "name": "stdout",
          "output_type": "stream",
          "text": [
            "[CV]  n_estimators=1000, min_samples_split=10, min_samples_leaf=2, max_features=sqrt, max_depth=10, bootstrap=True, total=   5.4s\n",
            "[CV] n_estimators=1000, min_samples_split=10, min_samples_leaf=2, max_features=sqrt, max_depth=10, bootstrap=True \n",
            "[CV]  n_estimators=1000, min_samples_split=10, min_samples_leaf=2, max_features=sqrt, max_depth=10, bootstrap=True, total=   3.6s\n",
            "[CV] n_estimators=577, min_samples_split=2, min_samples_leaf=2, max_features=sqrt, max_depth=65, bootstrap=True \n",
            "[CV]  n_estimators=577, min_samples_split=2, min_samples_leaf=2, max_features=sqrt, max_depth=65, bootstrap=True, total=   2.4s\n",
            "[CV] n_estimators=577, min_samples_split=2, min_samples_leaf=2, max_features=sqrt, max_depth=65, bootstrap=True \n",
            "[CV]  n_estimators=577, min_samples_split=2, min_samples_leaf=2, max_features=sqrt, max_depth=65, bootstrap=True, total=   2.4s\n",
            "[CV] n_estimators=577, min_samples_split=2, min_samples_leaf=2, max_features=sqrt, max_depth=65, bootstrap=True \n",
            "[CV]  n_estimators=577, min_samples_split=2, min_samples_leaf=2, max_features=sqrt, max_depth=65, bootstrap=True, total=   2.4s\n",
            "[CV] n_estimators=683, min_samples_split=5, min_samples_leaf=2, max_features=auto, max_depth=None, bootstrap=True \n",
            "[CV]  n_estimators=683, min_samples_split=5, min_samples_leaf=2, max_features=auto, max_depth=None, bootstrap=True, total=   3.0s\n",
            "[CV] n_estimators=683, min_samples_split=5, min_samples_leaf=2, max_features=auto, max_depth=None, bootstrap=True \n",
            "[CV]  n_estimators=683, min_samples_split=5, min_samples_leaf=2, max_features=auto, max_depth=None, bootstrap=True, total=   3.4s\n",
            "[CV] n_estimators=683, min_samples_split=5, min_samples_leaf=2, max_features=auto, max_depth=None, bootstrap=True \n",
            "[CV]  n_estimators=683, min_samples_split=5, min_samples_leaf=2, max_features=auto, max_depth=None, bootstrap=True, total=   3.8s\n",
            "[CV] n_estimators=50, min_samples_split=2, min_samples_leaf=1, max_features=auto, max_depth=54, bootstrap=True \n",
            "[CV]  n_estimators=50, min_samples_split=2, min_samples_leaf=1, max_features=auto, max_depth=54, bootstrap=True, total=   0.3s\n",
            "[CV] n_estimators=50, min_samples_split=2, min_samples_leaf=1, max_features=auto, max_depth=54, bootstrap=True \n",
            "[CV]  n_estimators=50, min_samples_split=2, min_samples_leaf=1, max_features=auto, max_depth=54, bootstrap=True, total=   0.3s\n",
            "[CV] n_estimators=50, min_samples_split=2, min_samples_leaf=1, max_features=auto, max_depth=54, bootstrap=True \n",
            "[CV]  n_estimators=50, min_samples_split=2, min_samples_leaf=1, max_features=auto, max_depth=54, bootstrap=True, total=   0.3s\n",
            "[CV] n_estimators=577, min_samples_split=10, min_samples_leaf=2, max_features=sqrt, max_depth=21, bootstrap=True \n",
            "[CV]  n_estimators=577, min_samples_split=10, min_samples_leaf=2, max_features=sqrt, max_depth=21, bootstrap=True, total=   2.7s\n",
            "[CV] n_estimators=577, min_samples_split=10, min_samples_leaf=2, max_features=sqrt, max_depth=21, bootstrap=True \n",
            "[CV]  n_estimators=577, min_samples_split=10, min_samples_leaf=2, max_features=sqrt, max_depth=21, bootstrap=True, total=   2.4s\n",
            "[CV] n_estimators=577, min_samples_split=10, min_samples_leaf=2, max_features=sqrt, max_depth=21, bootstrap=True \n",
            "[CV]  n_estimators=577, min_samples_split=10, min_samples_leaf=2, max_features=sqrt, max_depth=21, bootstrap=True, total=   2.4s\n",
            "[CV] n_estimators=788, min_samples_split=5, min_samples_leaf=2, max_features=sqrt, max_depth=54, bootstrap=True \n",
            "[CV]  n_estimators=788, min_samples_split=5, min_samples_leaf=2, max_features=sqrt, max_depth=54, bootstrap=True, total=   3.4s\n",
            "[CV] n_estimators=788, min_samples_split=5, min_samples_leaf=2, max_features=sqrt, max_depth=54, bootstrap=True \n",
            "[CV]  n_estimators=788, min_samples_split=5, min_samples_leaf=2, max_features=sqrt, max_depth=54, bootstrap=True, total=   3.4s\n",
            "[CV] n_estimators=788, min_samples_split=5, min_samples_leaf=2, max_features=sqrt, max_depth=54, bootstrap=True \n",
            "[CV]  n_estimators=788, min_samples_split=5, min_samples_leaf=2, max_features=sqrt, max_depth=54, bootstrap=True, total=   3.4s\n",
            "[CV] n_estimators=366, min_samples_split=2, min_samples_leaf=1, max_features=sqrt, max_depth=76, bootstrap=False \n",
            "[CV]  n_estimators=366, min_samples_split=2, min_samples_leaf=1, max_features=sqrt, max_depth=76, bootstrap=False, total=   2.3s\n",
            "[CV] n_estimators=366, min_samples_split=2, min_samples_leaf=1, max_features=sqrt, max_depth=76, bootstrap=False \n",
            "[CV]  n_estimators=366, min_samples_split=2, min_samples_leaf=1, max_features=sqrt, max_depth=76, bootstrap=False, total=   2.2s\n",
            "[CV] n_estimators=366, min_samples_split=2, min_samples_leaf=1, max_features=sqrt, max_depth=76, bootstrap=False \n",
            "[CV]  n_estimators=366, min_samples_split=2, min_samples_leaf=1, max_features=sqrt, max_depth=76, bootstrap=False, total=   2.3s\n",
            "[CV] n_estimators=894, min_samples_split=5, min_samples_leaf=2, max_features=auto, max_depth=32, bootstrap=True \n",
            "[CV]  n_estimators=894, min_samples_split=5, min_samples_leaf=2, max_features=auto, max_depth=32, bootstrap=True, total=   3.9s\n",
            "[CV] n_estimators=894, min_samples_split=5, min_samples_leaf=2, max_features=auto, max_depth=32, bootstrap=True \n",
            "[CV]  n_estimators=894, min_samples_split=5, min_samples_leaf=2, max_features=auto, max_depth=32, bootstrap=True, total=   3.8s\n",
            "[CV] n_estimators=894, min_samples_split=5, min_samples_leaf=2, max_features=auto, max_depth=32, bootstrap=True \n",
            "[CV]  n_estimators=894, min_samples_split=5, min_samples_leaf=2, max_features=auto, max_depth=32, bootstrap=True, total=   3.9s\n",
            "[CV] n_estimators=261, min_samples_split=2, min_samples_leaf=2, max_features=sqrt, max_depth=54, bootstrap=False \n",
            "[CV]  n_estimators=261, min_samples_split=2, min_samples_leaf=2, max_features=sqrt, max_depth=54, bootstrap=False, total=   1.5s\n",
            "[CV] n_estimators=261, min_samples_split=2, min_samples_leaf=2, max_features=sqrt, max_depth=54, bootstrap=False \n",
            "[CV]  n_estimators=261, min_samples_split=2, min_samples_leaf=2, max_features=sqrt, max_depth=54, bootstrap=False, total=   1.5s\n",
            "[CV] n_estimators=261, min_samples_split=2, min_samples_leaf=2, max_features=sqrt, max_depth=54, bootstrap=False \n",
            "[CV]  n_estimators=261, min_samples_split=2, min_samples_leaf=2, max_features=sqrt, max_depth=54, bootstrap=False, total=   1.5s\n",
            "[CV] n_estimators=472, min_samples_split=5, min_samples_leaf=4, max_features=sqrt, max_depth=98, bootstrap=False \n",
            "[CV]  n_estimators=472, min_samples_split=5, min_samples_leaf=4, max_features=sqrt, max_depth=98, bootstrap=False, total=   2.5s\n",
            "[CV] n_estimators=472, min_samples_split=5, min_samples_leaf=4, max_features=sqrt, max_depth=98, bootstrap=False \n",
            "[CV]  n_estimators=472, min_samples_split=5, min_samples_leaf=4, max_features=sqrt, max_depth=98, bootstrap=False, total=   2.5s\n",
            "[CV] n_estimators=472, min_samples_split=5, min_samples_leaf=4, max_features=sqrt, max_depth=98, bootstrap=False \n",
            "[CV]  n_estimators=472, min_samples_split=5, min_samples_leaf=4, max_features=sqrt, max_depth=98, bootstrap=False, total=   2.5s\n",
            "[CV] n_estimators=894, min_samples_split=10, min_samples_leaf=1, max_features=auto, max_depth=87, bootstrap=False \n",
            "[CV]  n_estimators=894, min_samples_split=10, min_samples_leaf=1, max_features=auto, max_depth=87, bootstrap=False, total=   5.2s\n",
            "[CV] n_estimators=894, min_samples_split=10, min_samples_leaf=1, max_features=auto, max_depth=87, bootstrap=False \n",
            "[CV]  n_estimators=894, min_samples_split=10, min_samples_leaf=1, max_features=auto, max_depth=87, bootstrap=False, total=   5.2s\n",
            "[CV] n_estimators=894, min_samples_split=10, min_samples_leaf=1, max_features=auto, max_depth=87, bootstrap=False \n",
            "[CV]  n_estimators=894, min_samples_split=10, min_samples_leaf=1, max_features=auto, max_depth=87, bootstrap=False, total=   5.6s\n",
            "[CV] n_estimators=1000, min_samples_split=2, min_samples_leaf=4, max_features=auto, max_depth=98, bootstrap=False \n",
            "[CV]  n_estimators=1000, min_samples_split=2, min_samples_leaf=4, max_features=auto, max_depth=98, bootstrap=False, total=   5.7s\n",
            "[CV] n_estimators=1000, min_samples_split=2, min_samples_leaf=4, max_features=auto, max_depth=98, bootstrap=False \n",
            "[CV]  n_estimators=1000, min_samples_split=2, min_samples_leaf=4, max_features=auto, max_depth=98, bootstrap=False, total=   5.5s\n",
            "[CV] n_estimators=1000, min_samples_split=2, min_samples_leaf=4, max_features=auto, max_depth=98, bootstrap=False \n",
            "[CV]  n_estimators=1000, min_samples_split=2, min_samples_leaf=4, max_features=auto, max_depth=98, bootstrap=False, total=   5.3s\n",
            "[CV] n_estimators=1000, min_samples_split=10, min_samples_leaf=2, max_features=auto, max_depth=98, bootstrap=False \n",
            "[CV]  n_estimators=1000, min_samples_split=10, min_samples_leaf=2, max_features=auto, max_depth=98, bootstrap=False, total=   6.4s\n",
            "[CV] n_estimators=1000, min_samples_split=10, min_samples_leaf=2, max_features=auto, max_depth=98, bootstrap=False \n",
            "[CV]  n_estimators=1000, min_samples_split=10, min_samples_leaf=2, max_features=auto, max_depth=98, bootstrap=False, total=   7.5s\n",
            "[CV] n_estimators=1000, min_samples_split=10, min_samples_leaf=2, max_features=auto, max_depth=98, bootstrap=False \n",
            "[CV]  n_estimators=1000, min_samples_split=10, min_samples_leaf=2, max_features=auto, max_depth=98, bootstrap=False, total=   6.0s\n",
            "[CV] n_estimators=472, min_samples_split=10, min_samples_leaf=4, max_features=sqrt, max_depth=21, bootstrap=True \n",
            "[CV]  n_estimators=472, min_samples_split=10, min_samples_leaf=4, max_features=sqrt, max_depth=21, bootstrap=True, total=   2.0s\n",
            "[CV] n_estimators=472, min_samples_split=10, min_samples_leaf=4, max_features=sqrt, max_depth=21, bootstrap=True \n",
            "[CV]  n_estimators=472, min_samples_split=10, min_samples_leaf=4, max_features=sqrt, max_depth=21, bootstrap=True, total=   2.2s\n",
            "[CV] n_estimators=472, min_samples_split=10, min_samples_leaf=4, max_features=sqrt, max_depth=21, bootstrap=True \n",
            "[CV]  n_estimators=472, min_samples_split=10, min_samples_leaf=4, max_features=sqrt, max_depth=21, bootstrap=True, total=   1.9s\n",
            "[CV] n_estimators=155, min_samples_split=2, min_samples_leaf=1, max_features=sqrt, max_depth=98, bootstrap=False \n",
            "[CV]  n_estimators=155, min_samples_split=2, min_samples_leaf=1, max_features=sqrt, max_depth=98, bootstrap=False, total=   1.0s\n",
            "[CV] n_estimators=155, min_samples_split=2, min_samples_leaf=1, max_features=sqrt, max_depth=98, bootstrap=False \n",
            "[CV]  n_estimators=155, min_samples_split=2, min_samples_leaf=1, max_features=sqrt, max_depth=98, bootstrap=False, total=   0.9s\n",
            "[CV] n_estimators=155, min_samples_split=2, min_samples_leaf=1, max_features=sqrt, max_depth=98, bootstrap=False \n",
            "[CV]  n_estimators=155, min_samples_split=2, min_samples_leaf=1, max_features=sqrt, max_depth=98, bootstrap=False, total=   0.9s\n",
            "[CV] n_estimators=1000, min_samples_split=10, min_samples_leaf=4, max_features=sqrt, max_depth=10, bootstrap=False \n",
            "[CV]  n_estimators=1000, min_samples_split=10, min_samples_leaf=4, max_features=sqrt, max_depth=10, bootstrap=False, total=   4.6s\n",
            "[CV] n_estimators=1000, min_samples_split=10, min_samples_leaf=4, max_features=sqrt, max_depth=10, bootstrap=False \n",
            "[CV]  n_estimators=1000, min_samples_split=10, min_samples_leaf=4, max_features=sqrt, max_depth=10, bootstrap=False, total=   4.6s\n",
            "[CV] n_estimators=1000, min_samples_split=10, min_samples_leaf=4, max_features=sqrt, max_depth=10, bootstrap=False \n",
            "[CV]  n_estimators=1000, min_samples_split=10, min_samples_leaf=4, max_features=sqrt, max_depth=10, bootstrap=False, total=   4.4s\n",
            "[CV] n_estimators=50, min_samples_split=5, min_samples_leaf=2, max_features=sqrt, max_depth=43, bootstrap=False \n",
            "[CV]  n_estimators=50, min_samples_split=5, min_samples_leaf=2, max_features=sqrt, max_depth=43, bootstrap=False, total=   0.3s\n",
            "[CV] n_estimators=50, min_samples_split=5, min_samples_leaf=2, max_features=sqrt, max_depth=43, bootstrap=False \n",
            "[CV]  n_estimators=50, min_samples_split=5, min_samples_leaf=2, max_features=sqrt, max_depth=43, bootstrap=False, total=   0.3s\n",
            "[CV] n_estimators=50, min_samples_split=5, min_samples_leaf=2, max_features=sqrt, max_depth=43, bootstrap=False \n",
            "[CV]  n_estimators=50, min_samples_split=5, min_samples_leaf=2, max_features=sqrt, max_depth=43, bootstrap=False, total=   0.3s\n",
            "[CV] n_estimators=577, min_samples_split=2, min_samples_leaf=2, max_features=auto, max_depth=76, bootstrap=False \n",
            "[CV]  n_estimators=577, min_samples_split=2, min_samples_leaf=2, max_features=auto, max_depth=76, bootstrap=False, total=   3.6s\n",
            "[CV] n_estimators=577, min_samples_split=2, min_samples_leaf=2, max_features=auto, max_depth=76, bootstrap=False \n",
            "[CV]  n_estimators=577, min_samples_split=2, min_samples_leaf=2, max_features=auto, max_depth=76, bootstrap=False, total=   3.5s\n",
            "[CV] n_estimators=577, min_samples_split=2, min_samples_leaf=2, max_features=auto, max_depth=76, bootstrap=False \n",
            "[CV]  n_estimators=577, min_samples_split=2, min_samples_leaf=2, max_features=auto, max_depth=76, bootstrap=False, total=   3.3s\n",
            "[CV] n_estimators=683, min_samples_split=5, min_samples_leaf=4, max_features=sqrt, max_depth=32, bootstrap=False \n",
            "[CV]  n_estimators=683, min_samples_split=5, min_samples_leaf=4, max_features=sqrt, max_depth=32, bootstrap=False, total=   3.7s\n",
            "[CV] n_estimators=683, min_samples_split=5, min_samples_leaf=4, max_features=sqrt, max_depth=32, bootstrap=False \n",
            "[CV]  n_estimators=683, min_samples_split=5, min_samples_leaf=4, max_features=sqrt, max_depth=32, bootstrap=False, total=   3.7s\n",
            "[CV] n_estimators=683, min_samples_split=5, min_samples_leaf=4, max_features=sqrt, max_depth=32, bootstrap=False \n",
            "[CV]  n_estimators=683, min_samples_split=5, min_samples_leaf=4, max_features=sqrt, max_depth=32, bootstrap=False, total=   3.7s\n",
            "[CV] n_estimators=1000, min_samples_split=5, min_samples_leaf=1, max_features=sqrt, max_depth=76, bootstrap=True \n",
            "[CV]  n_estimators=1000, min_samples_split=5, min_samples_leaf=1, max_features=sqrt, max_depth=76, bootstrap=True, total=   4.8s\n",
            "[CV] n_estimators=1000, min_samples_split=5, min_samples_leaf=1, max_features=sqrt, max_depth=76, bootstrap=True \n",
            "[CV]  n_estimators=1000, min_samples_split=5, min_samples_leaf=1, max_features=sqrt, max_depth=76, bootstrap=True, total=   4.9s\n",
            "[CV] n_estimators=1000, min_samples_split=5, min_samples_leaf=1, max_features=sqrt, max_depth=76, bootstrap=True \n",
            "[CV]  n_estimators=1000, min_samples_split=5, min_samples_leaf=1, max_features=sqrt, max_depth=76, bootstrap=True, total=   5.1s\n",
            "[CV] n_estimators=472, min_samples_split=5, min_samples_leaf=4, max_features=auto, max_depth=None, bootstrap=True \n",
            "[CV]  n_estimators=472, min_samples_split=5, min_samples_leaf=4, max_features=auto, max_depth=None, bootstrap=True, total=   2.1s\n",
            "[CV] n_estimators=472, min_samples_split=5, min_samples_leaf=4, max_features=auto, max_depth=None, bootstrap=True \n",
            "[CV]  n_estimators=472, min_samples_split=5, min_samples_leaf=4, max_features=auto, max_depth=None, bootstrap=True, total=   2.0s\n",
            "[CV] n_estimators=472, min_samples_split=5, min_samples_leaf=4, max_features=auto, max_depth=None, bootstrap=True \n",
            "[CV]  n_estimators=472, min_samples_split=5, min_samples_leaf=4, max_features=auto, max_depth=None, bootstrap=True, total=   2.1s\n",
            "[CV] n_estimators=50, min_samples_split=2, min_samples_leaf=4, max_features=auto, max_depth=32, bootstrap=False \n",
            "[CV]  n_estimators=50, min_samples_split=2, min_samples_leaf=4, max_features=auto, max_depth=32, bootstrap=False, total=   0.3s\n",
            "[CV] n_estimators=50, min_samples_split=2, min_samples_leaf=4, max_features=auto, max_depth=32, bootstrap=False \n",
            "[CV]  n_estimators=50, min_samples_split=2, min_samples_leaf=4, max_features=auto, max_depth=32, bootstrap=False, total=   0.3s\n",
            "[CV] n_estimators=50, min_samples_split=2, min_samples_leaf=4, max_features=auto, max_depth=32, bootstrap=False \n",
            "[CV]  n_estimators=50, min_samples_split=2, min_samples_leaf=4, max_features=auto, max_depth=32, bootstrap=False, total=   0.3s\n",
            "[CV] n_estimators=155, min_samples_split=2, min_samples_leaf=4, max_features=sqrt, max_depth=76, bootstrap=True \n",
            "[CV]  n_estimators=155, min_samples_split=2, min_samples_leaf=4, max_features=sqrt, max_depth=76, bootstrap=True, total=   0.6s\n",
            "[CV] n_estimators=155, min_samples_split=2, min_samples_leaf=4, max_features=sqrt, max_depth=76, bootstrap=True \n",
            "[CV]  n_estimators=155, min_samples_split=2, min_samples_leaf=4, max_features=sqrt, max_depth=76, bootstrap=True, total=   0.6s\n",
            "[CV] n_estimators=155, min_samples_split=2, min_samples_leaf=4, max_features=sqrt, max_depth=76, bootstrap=True \n",
            "[CV]  n_estimators=155, min_samples_split=2, min_samples_leaf=4, max_features=sqrt, max_depth=76, bootstrap=True, total=   0.7s\n",
            "[CV] n_estimators=788, min_samples_split=5, min_samples_leaf=2, max_features=sqrt, max_depth=98, bootstrap=False \n",
            "[CV]  n_estimators=788, min_samples_split=5, min_samples_leaf=2, max_features=sqrt, max_depth=98, bootstrap=False, total=   4.7s\n",
            "[CV] n_estimators=788, min_samples_split=5, min_samples_leaf=2, max_features=sqrt, max_depth=98, bootstrap=False \n",
            "[CV]  n_estimators=788, min_samples_split=5, min_samples_leaf=2, max_features=sqrt, max_depth=98, bootstrap=False, total=   4.7s\n",
            "[CV] n_estimators=788, min_samples_split=5, min_samples_leaf=2, max_features=sqrt, max_depth=98, bootstrap=False \n",
            "[CV]  n_estimators=788, min_samples_split=5, min_samples_leaf=2, max_features=sqrt, max_depth=98, bootstrap=False, total=   5.3s\n",
            "[CV] n_estimators=50, min_samples_split=2, min_samples_leaf=1, max_features=sqrt, max_depth=None, bootstrap=False \n",
            "[CV]  n_estimators=50, min_samples_split=2, min_samples_leaf=1, max_features=sqrt, max_depth=None, bootstrap=False, total=   0.4s\n",
            "[CV] n_estimators=50, min_samples_split=2, min_samples_leaf=1, max_features=sqrt, max_depth=None, bootstrap=False \n",
            "[CV]  n_estimators=50, min_samples_split=2, min_samples_leaf=1, max_features=sqrt, max_depth=None, bootstrap=False, total=   0.4s\n",
            "[CV] n_estimators=50, min_samples_split=2, min_samples_leaf=1, max_features=sqrt, max_depth=None, bootstrap=False \n",
            "[CV]  n_estimators=50, min_samples_split=2, min_samples_leaf=1, max_features=sqrt, max_depth=None, bootstrap=False, total=   0.3s\n",
            "[CV] n_estimators=50, min_samples_split=2, min_samples_leaf=1, max_features=sqrt, max_depth=21, bootstrap=True \n",
            "[CV]  n_estimators=50, min_samples_split=2, min_samples_leaf=1, max_features=sqrt, max_depth=21, bootstrap=True, total=   0.2s\n",
            "[CV] n_estimators=50, min_samples_split=2, min_samples_leaf=1, max_features=sqrt, max_depth=21, bootstrap=True \n",
            "[CV]  n_estimators=50, min_samples_split=2, min_samples_leaf=1, max_features=sqrt, max_depth=21, bootstrap=True, total=   0.2s\n",
            "[CV] n_estimators=50, min_samples_split=2, min_samples_leaf=1, max_features=sqrt, max_depth=21, bootstrap=True \n",
            "[CV]  n_estimators=50, min_samples_split=2, min_samples_leaf=1, max_features=sqrt, max_depth=21, bootstrap=True, total=   0.3s\n",
            "[CV] n_estimators=894, min_samples_split=5, min_samples_leaf=1, max_features=auto, max_depth=21, bootstrap=False \n",
            "[CV]  n_estimators=894, min_samples_split=5, min_samples_leaf=1, max_features=auto, max_depth=21, bootstrap=False, total=   5.7s\n",
            "[CV] n_estimators=894, min_samples_split=5, min_samples_leaf=1, max_features=auto, max_depth=21, bootstrap=False \n",
            "[CV]  n_estimators=894, min_samples_split=5, min_samples_leaf=1, max_features=auto, max_depth=21, bootstrap=False, total=   5.5s\n",
            "[CV] n_estimators=894, min_samples_split=5, min_samples_leaf=1, max_features=auto, max_depth=21, bootstrap=False \n",
            "[CV]  n_estimators=894, min_samples_split=5, min_samples_leaf=1, max_features=auto, max_depth=21, bootstrap=False, total=   5.3s\n",
            "[CV] n_estimators=50, min_samples_split=10, min_samples_leaf=4, max_features=sqrt, max_depth=98, bootstrap=True \n",
            "[CV]  n_estimators=50, min_samples_split=10, min_samples_leaf=4, max_features=sqrt, max_depth=98, bootstrap=True, total=   0.2s\n",
            "[CV] n_estimators=50, min_samples_split=10, min_samples_leaf=4, max_features=sqrt, max_depth=98, bootstrap=True \n",
            "[CV]  n_estimators=50, min_samples_split=10, min_samples_leaf=4, max_features=sqrt, max_depth=98, bootstrap=True, total=   0.2s\n",
            "[CV] n_estimators=50, min_samples_split=10, min_samples_leaf=4, max_features=sqrt, max_depth=98, bootstrap=True \n",
            "[CV]  n_estimators=50, min_samples_split=10, min_samples_leaf=4, max_features=sqrt, max_depth=98, bootstrap=True, total=   0.2s\n",
            "[CV] n_estimators=577, min_samples_split=2, min_samples_leaf=2, max_features=sqrt, max_depth=110, bootstrap=True \n",
            "[CV]  n_estimators=577, min_samples_split=2, min_samples_leaf=2, max_features=sqrt, max_depth=110, bootstrap=True, total=   2.6s\n",
            "[CV] n_estimators=577, min_samples_split=2, min_samples_leaf=2, max_features=sqrt, max_depth=110, bootstrap=True \n",
            "[CV]  n_estimators=577, min_samples_split=2, min_samples_leaf=2, max_features=sqrt, max_depth=110, bootstrap=True, total=   3.5s\n",
            "[CV] n_estimators=577, min_samples_split=2, min_samples_leaf=2, max_features=sqrt, max_depth=110, bootstrap=True \n",
            "[CV]  n_estimators=577, min_samples_split=2, min_samples_leaf=2, max_features=sqrt, max_depth=110, bootstrap=True, total=   2.9s\n",
            "[CV] n_estimators=577, min_samples_split=10, min_samples_leaf=4, max_features=sqrt, max_depth=110, bootstrap=True \n",
            "[CV]  n_estimators=577, min_samples_split=10, min_samples_leaf=4, max_features=sqrt, max_depth=110, bootstrap=True, total=   2.7s\n",
            "[CV] n_estimators=577, min_samples_split=10, min_samples_leaf=4, max_features=sqrt, max_depth=110, bootstrap=True \n",
            "[CV]  n_estimators=577, min_samples_split=10, min_samples_leaf=4, max_features=sqrt, max_depth=110, bootstrap=True, total=   2.6s\n",
            "[CV] n_estimators=577, min_samples_split=10, min_samples_leaf=4, max_features=sqrt, max_depth=110, bootstrap=True \n",
            "[CV]  n_estimators=577, min_samples_split=10, min_samples_leaf=4, max_features=sqrt, max_depth=110, bootstrap=True, total=   2.6s\n",
            "[CV] n_estimators=155, min_samples_split=2, min_samples_leaf=2, max_features=auto, max_depth=21, bootstrap=True \n",
            "[CV]  n_estimators=155, min_samples_split=2, min_samples_leaf=2, max_features=auto, max_depth=21, bootstrap=True, total=   0.8s\n",
            "[CV] n_estimators=155, min_samples_split=2, min_samples_leaf=2, max_features=auto, max_depth=21, bootstrap=True \n",
            "[CV]  n_estimators=155, min_samples_split=2, min_samples_leaf=2, max_features=auto, max_depth=21, bootstrap=True, total=   0.7s\n",
            "[CV] n_estimators=155, min_samples_split=2, min_samples_leaf=2, max_features=auto, max_depth=21, bootstrap=True \n",
            "[CV]  n_estimators=155, min_samples_split=2, min_samples_leaf=2, max_features=auto, max_depth=21, bootstrap=True, total=   0.7s\n",
            "[CV] n_estimators=788, min_samples_split=5, min_samples_leaf=2, max_features=sqrt, max_depth=87, bootstrap=False \n",
            "[CV]  n_estimators=788, min_samples_split=5, min_samples_leaf=2, max_features=sqrt, max_depth=87, bootstrap=False, total=   4.9s\n",
            "[CV] n_estimators=788, min_samples_split=5, min_samples_leaf=2, max_features=sqrt, max_depth=87, bootstrap=False \n",
            "[CV]  n_estimators=788, min_samples_split=5, min_samples_leaf=2, max_features=sqrt, max_depth=87, bootstrap=False, total=   5.0s\n",
            "[CV] n_estimators=788, min_samples_split=5, min_samples_leaf=2, max_features=sqrt, max_depth=87, bootstrap=False \n",
            "[CV]  n_estimators=788, min_samples_split=5, min_samples_leaf=2, max_features=sqrt, max_depth=87, bootstrap=False, total=   4.8s\n",
            "[CV] n_estimators=155, min_samples_split=10, min_samples_leaf=1, max_features=auto, max_depth=110, bootstrap=True \n",
            "[CV]  n_estimators=155, min_samples_split=10, min_samples_leaf=1, max_features=auto, max_depth=110, bootstrap=True, total=   0.7s\n",
            "[CV] n_estimators=155, min_samples_split=10, min_samples_leaf=1, max_features=auto, max_depth=110, bootstrap=True \n",
            "[CV]  n_estimators=155, min_samples_split=10, min_samples_leaf=1, max_features=auto, max_depth=110, bootstrap=True, total=   0.7s\n",
            "[CV] n_estimators=155, min_samples_split=10, min_samples_leaf=1, max_features=auto, max_depth=110, bootstrap=True \n",
            "[CV]  n_estimators=155, min_samples_split=10, min_samples_leaf=1, max_features=auto, max_depth=110, bootstrap=True, total=   0.7s\n",
            "[CV] n_estimators=1000, min_samples_split=2, min_samples_leaf=4, max_features=auto, max_depth=76, bootstrap=False \n",
            "[CV]  n_estimators=1000, min_samples_split=2, min_samples_leaf=4, max_features=auto, max_depth=76, bootstrap=False, total=   5.8s\n",
            "[CV] n_estimators=1000, min_samples_split=2, min_samples_leaf=4, max_features=auto, max_depth=76, bootstrap=False \n",
            "[CV]  n_estimators=1000, min_samples_split=2, min_samples_leaf=4, max_features=auto, max_depth=76, bootstrap=False, total=   5.4s\n",
            "[CV] n_estimators=1000, min_samples_split=2, min_samples_leaf=4, max_features=auto, max_depth=76, bootstrap=False \n",
            "[CV]  n_estimators=1000, min_samples_split=2, min_samples_leaf=4, max_features=auto, max_depth=76, bootstrap=False, total=   5.7s\n",
            "[CV] n_estimators=472, min_samples_split=5, min_samples_leaf=1, max_features=auto, max_depth=10, bootstrap=True \n",
            "[CV]  n_estimators=472, min_samples_split=5, min_samples_leaf=1, max_features=auto, max_depth=10, bootstrap=True, total=   2.1s\n",
            "[CV] n_estimators=472, min_samples_split=5, min_samples_leaf=1, max_features=auto, max_depth=10, bootstrap=True \n",
            "[CV]  n_estimators=472, min_samples_split=5, min_samples_leaf=1, max_features=auto, max_depth=10, bootstrap=True, total=   2.4s\n",
            "[CV] n_estimators=472, min_samples_split=5, min_samples_leaf=1, max_features=auto, max_depth=10, bootstrap=True \n",
            "[CV]  n_estimators=472, min_samples_split=5, min_samples_leaf=1, max_features=auto, max_depth=10, bootstrap=True, total=   2.1s\n",
            "[CV] n_estimators=50, min_samples_split=2, min_samples_leaf=2, max_features=sqrt, max_depth=54, bootstrap=False \n",
            "[CV]  n_estimators=50, min_samples_split=2, min_samples_leaf=2, max_features=sqrt, max_depth=54, bootstrap=False, total=   0.3s\n",
            "[CV] n_estimators=50, min_samples_split=2, min_samples_leaf=2, max_features=sqrt, max_depth=54, bootstrap=False \n",
            "[CV]  n_estimators=50, min_samples_split=2, min_samples_leaf=2, max_features=sqrt, max_depth=54, bootstrap=False, total=   0.3s\n",
            "[CV] n_estimators=50, min_samples_split=2, min_samples_leaf=2, max_features=sqrt, max_depth=54, bootstrap=False \n",
            "[CV]  n_estimators=50, min_samples_split=2, min_samples_leaf=2, max_features=sqrt, max_depth=54, bootstrap=False, total=   0.3s\n",
            "[CV] n_estimators=261, min_samples_split=10, min_samples_leaf=1, max_features=sqrt, max_depth=None, bootstrap=True \n",
            "[CV]  n_estimators=261, min_samples_split=10, min_samples_leaf=1, max_features=sqrt, max_depth=None, bootstrap=True, total=   1.2s\n",
            "[CV] n_estimators=261, min_samples_split=10, min_samples_leaf=1, max_features=sqrt, max_depth=None, bootstrap=True \n",
            "[CV]  n_estimators=261, min_samples_split=10, min_samples_leaf=1, max_features=sqrt, max_depth=None, bootstrap=True, total=   1.3s\n",
            "[CV] n_estimators=261, min_samples_split=10, min_samples_leaf=1, max_features=sqrt, max_depth=None, bootstrap=True \n",
            "[CV]  n_estimators=261, min_samples_split=10, min_samples_leaf=1, max_features=sqrt, max_depth=None, bootstrap=True, total=   1.5s\n",
            "[CV] n_estimators=50, min_samples_split=5, min_samples_leaf=4, max_features=sqrt, max_depth=32, bootstrap=False \n",
            "[CV]  n_estimators=50, min_samples_split=5, min_samples_leaf=4, max_features=sqrt, max_depth=32, bootstrap=False, total=   0.3s\n",
            "[CV] n_estimators=50, min_samples_split=5, min_samples_leaf=4, max_features=sqrt, max_depth=32, bootstrap=False \n",
            "[CV]  n_estimators=50, min_samples_split=5, min_samples_leaf=4, max_features=sqrt, max_depth=32, bootstrap=False, total=   0.3s\n",
            "[CV] n_estimators=50, min_samples_split=5, min_samples_leaf=4, max_features=sqrt, max_depth=32, bootstrap=False \n",
            "[CV]  n_estimators=50, min_samples_split=5, min_samples_leaf=4, max_features=sqrt, max_depth=32, bootstrap=False, total=   0.3s\n",
            "[CV] n_estimators=894, min_samples_split=5, min_samples_leaf=1, max_features=sqrt, max_depth=21, bootstrap=False \n",
            "[CV]  n_estimators=894, min_samples_split=5, min_samples_leaf=1, max_features=sqrt, max_depth=21, bootstrap=False, total=   6.2s\n",
            "[CV] n_estimators=894, min_samples_split=5, min_samples_leaf=1, max_features=sqrt, max_depth=21, bootstrap=False \n",
            "[CV]  n_estimators=894, min_samples_split=5, min_samples_leaf=1, max_features=sqrt, max_depth=21, bootstrap=False, total=   6.1s\n",
            "[CV] n_estimators=894, min_samples_split=5, min_samples_leaf=1, max_features=sqrt, max_depth=21, bootstrap=False \n",
            "[CV]  n_estimators=894, min_samples_split=5, min_samples_leaf=1, max_features=sqrt, max_depth=21, bootstrap=False, total=   6.4s\n",
            "[CV] n_estimators=155, min_samples_split=2, min_samples_leaf=2, max_features=sqrt, max_depth=87, bootstrap=False \n",
            "[CV]  n_estimators=155, min_samples_split=2, min_samples_leaf=2, max_features=sqrt, max_depth=87, bootstrap=False, total=   0.9s\n",
            "[CV] n_estimators=155, min_samples_split=2, min_samples_leaf=2, max_features=sqrt, max_depth=87, bootstrap=False \n",
            "[CV]  n_estimators=155, min_samples_split=2, min_samples_leaf=2, max_features=sqrt, max_depth=87, bootstrap=False, total=   0.9s\n",
            "[CV] n_estimators=155, min_samples_split=2, min_samples_leaf=2, max_features=sqrt, max_depth=87, bootstrap=False \n",
            "[CV]  n_estimators=155, min_samples_split=2, min_samples_leaf=2, max_features=sqrt, max_depth=87, bootstrap=False, total=   0.9s\n",
            "[CV] n_estimators=366, min_samples_split=10, min_samples_leaf=1, max_features=auto, max_depth=10, bootstrap=False \n",
            "[CV]  n_estimators=366, min_samples_split=10, min_samples_leaf=1, max_features=auto, max_depth=10, bootstrap=False, total=   1.8s\n",
            "[CV] n_estimators=366, min_samples_split=10, min_samples_leaf=1, max_features=auto, max_depth=10, bootstrap=False \n",
            "[CV]  n_estimators=366, min_samples_split=10, min_samples_leaf=1, max_features=auto, max_depth=10, bootstrap=False, total=   2.0s\n",
            "[CV] n_estimators=366, min_samples_split=10, min_samples_leaf=1, max_features=auto, max_depth=10, bootstrap=False \n",
            "[CV]  n_estimators=366, min_samples_split=10, min_samples_leaf=1, max_features=auto, max_depth=10, bootstrap=False, total=   1.8s\n",
            "[CV] n_estimators=50, min_samples_split=5, min_samples_leaf=1, max_features=auto, max_depth=None, bootstrap=False \n",
            "[CV]  n_estimators=50, min_samples_split=5, min_samples_leaf=1, max_features=auto, max_depth=None, bootstrap=False, total=   0.3s\n",
            "[CV] n_estimators=50, min_samples_split=5, min_samples_leaf=1, max_features=auto, max_depth=None, bootstrap=False \n",
            "[CV]  n_estimators=50, min_samples_split=5, min_samples_leaf=1, max_features=auto, max_depth=None, bootstrap=False, total=   0.3s\n",
            "[CV] n_estimators=50, min_samples_split=5, min_samples_leaf=1, max_features=auto, max_depth=None, bootstrap=False \n",
            "[CV]  n_estimators=50, min_samples_split=5, min_samples_leaf=1, max_features=auto, max_depth=None, bootstrap=False, total=   0.3s\n",
            "[CV] n_estimators=261, min_samples_split=5, min_samples_leaf=1, max_features=auto, max_depth=65, bootstrap=True \n",
            "[CV]  n_estimators=261, min_samples_split=5, min_samples_leaf=1, max_features=auto, max_depth=65, bootstrap=True, total=   1.4s\n",
            "[CV] n_estimators=261, min_samples_split=5, min_samples_leaf=1, max_features=auto, max_depth=65, bootstrap=True \n",
            "[CV]  n_estimators=261, min_samples_split=5, min_samples_leaf=1, max_features=auto, max_depth=65, bootstrap=True, total=   1.4s\n",
            "[CV] n_estimators=261, min_samples_split=5, min_samples_leaf=1, max_features=auto, max_depth=65, bootstrap=True \n",
            "[CV]  n_estimators=261, min_samples_split=5, min_samples_leaf=1, max_features=auto, max_depth=65, bootstrap=True, total=   1.2s\n",
            "[CV] n_estimators=50, min_samples_split=2, min_samples_leaf=4, max_features=auto, max_depth=21, bootstrap=True \n",
            "[CV]  n_estimators=50, min_samples_split=2, min_samples_leaf=4, max_features=auto, max_depth=21, bootstrap=True, total=   0.2s\n",
            "[CV] n_estimators=50, min_samples_split=2, min_samples_leaf=4, max_features=auto, max_depth=21, bootstrap=True \n",
            "[CV]  n_estimators=50, min_samples_split=2, min_samples_leaf=4, max_features=auto, max_depth=21, bootstrap=True, total=   0.2s\n",
            "[CV] n_estimators=50, min_samples_split=2, min_samples_leaf=4, max_features=auto, max_depth=21, bootstrap=True \n",
            "[CV]  n_estimators=50, min_samples_split=2, min_samples_leaf=4, max_features=auto, max_depth=21, bootstrap=True, total=   0.2s\n",
            "[CV] n_estimators=894, min_samples_split=2, min_samples_leaf=1, max_features=sqrt, max_depth=54, bootstrap=True \n",
            "[CV]  n_estimators=894, min_samples_split=2, min_samples_leaf=1, max_features=sqrt, max_depth=54, bootstrap=True, total=   4.3s\n",
            "[CV] n_estimators=894, min_samples_split=2, min_samples_leaf=1, max_features=sqrt, max_depth=54, bootstrap=True \n",
            "[CV]  n_estimators=894, min_samples_split=2, min_samples_leaf=1, max_features=sqrt, max_depth=54, bootstrap=True, total=   4.0s\n",
            "[CV] n_estimators=894, min_samples_split=2, min_samples_leaf=1, max_features=sqrt, max_depth=54, bootstrap=True \n",
            "[CV]  n_estimators=894, min_samples_split=2, min_samples_leaf=1, max_features=sqrt, max_depth=54, bootstrap=True, total=   4.8s\n",
            "[CV] n_estimators=788, min_samples_split=10, min_samples_leaf=4, max_features=sqrt, max_depth=54, bootstrap=True \n",
            "[CV]  n_estimators=788, min_samples_split=10, min_samples_leaf=4, max_features=sqrt, max_depth=54, bootstrap=True, total=   4.1s\n",
            "[CV] n_estimators=788, min_samples_split=10, min_samples_leaf=4, max_features=sqrt, max_depth=54, bootstrap=True \n",
            "[CV]  n_estimators=788, min_samples_split=10, min_samples_leaf=4, max_features=sqrt, max_depth=54, bootstrap=True, total=   4.0s\n",
            "[CV] n_estimators=788, min_samples_split=10, min_samples_leaf=4, max_features=sqrt, max_depth=54, bootstrap=True \n",
            "[CV]  n_estimators=788, min_samples_split=10, min_samples_leaf=4, max_features=sqrt, max_depth=54, bootstrap=True, total=   4.0s\n",
            "[CV] n_estimators=472, min_samples_split=10, min_samples_leaf=1, max_features=auto, max_depth=54, bootstrap=True \n",
            "[CV]  n_estimators=472, min_samples_split=10, min_samples_leaf=1, max_features=auto, max_depth=54, bootstrap=True, total=   2.5s\n",
            "[CV] n_estimators=472, min_samples_split=10, min_samples_leaf=1, max_features=auto, max_depth=54, bootstrap=True \n",
            "[CV]  n_estimators=472, min_samples_split=10, min_samples_leaf=1, max_features=auto, max_depth=54, bootstrap=True, total=   2.1s\n",
            "[CV] n_estimators=472, min_samples_split=10, min_samples_leaf=1, max_features=auto, max_depth=54, bootstrap=True \n",
            "[CV]  n_estimators=472, min_samples_split=10, min_samples_leaf=1, max_features=auto, max_depth=54, bootstrap=True, total=   2.1s\n",
            "[CV] n_estimators=50, min_samples_split=5, min_samples_leaf=4, max_features=auto, max_depth=10, bootstrap=True \n",
            "[CV]  n_estimators=50, min_samples_split=5, min_samples_leaf=4, max_features=auto, max_depth=10, bootstrap=True, total=   0.2s\n",
            "[CV] n_estimators=50, min_samples_split=5, min_samples_leaf=4, max_features=auto, max_depth=10, bootstrap=True \n",
            "[CV]  n_estimators=50, min_samples_split=5, min_samples_leaf=4, max_features=auto, max_depth=10, bootstrap=True, total=   0.2s\n",
            "[CV] n_estimators=50, min_samples_split=5, min_samples_leaf=4, max_features=auto, max_depth=10, bootstrap=True \n",
            "[CV]  n_estimators=50, min_samples_split=5, min_samples_leaf=4, max_features=auto, max_depth=10, bootstrap=True, total=   0.2s\n",
            "[CV] n_estimators=1000, min_samples_split=5, min_samples_leaf=1, max_features=sqrt, max_depth=54, bootstrap=True \n",
            "[CV]  n_estimators=1000, min_samples_split=5, min_samples_leaf=1, max_features=sqrt, max_depth=54, bootstrap=True, total=   4.8s\n",
            "[CV] n_estimators=1000, min_samples_split=5, min_samples_leaf=1, max_features=sqrt, max_depth=54, bootstrap=True \n",
            "[CV]  n_estimators=1000, min_samples_split=5, min_samples_leaf=1, max_features=sqrt, max_depth=54, bootstrap=True, total=   5.0s\n",
            "[CV] n_estimators=1000, min_samples_split=5, min_samples_leaf=1, max_features=sqrt, max_depth=54, bootstrap=True \n",
            "[CV]  n_estimators=1000, min_samples_split=5, min_samples_leaf=1, max_features=sqrt, max_depth=54, bootstrap=True, total=   4.8s\n",
            "[CV] n_estimators=894, min_samples_split=5, min_samples_leaf=2, max_features=auto, max_depth=87, bootstrap=False \n",
            "[CV]  n_estimators=894, min_samples_split=5, min_samples_leaf=2, max_features=auto, max_depth=87, bootstrap=False, total=   5.4s\n",
            "[CV] n_estimators=894, min_samples_split=5, min_samples_leaf=2, max_features=auto, max_depth=87, bootstrap=False \n",
            "[CV]  n_estimators=894, min_samples_split=5, min_samples_leaf=2, max_features=auto, max_depth=87, bootstrap=False, total=   5.7s\n",
            "[CV] n_estimators=894, min_samples_split=5, min_samples_leaf=2, max_features=auto, max_depth=87, bootstrap=False \n",
            "[CV]  n_estimators=894, min_samples_split=5, min_samples_leaf=2, max_features=auto, max_depth=87, bootstrap=False, total=   5.4s\n",
            "[CV] n_estimators=894, min_samples_split=10, min_samples_leaf=1, max_features=auto, max_depth=43, bootstrap=True \n",
            "[CV]  n_estimators=894, min_samples_split=10, min_samples_leaf=1, max_features=auto, max_depth=43, bootstrap=True, total=   4.1s\n",
            "[CV] n_estimators=894, min_samples_split=10, min_samples_leaf=1, max_features=auto, max_depth=43, bootstrap=True \n",
            "[CV]  n_estimators=894, min_samples_split=10, min_samples_leaf=1, max_features=auto, max_depth=43, bootstrap=True, total=   4.0s\n",
            "[CV] n_estimators=894, min_samples_split=10, min_samples_leaf=1, max_features=auto, max_depth=43, bootstrap=True \n",
            "[CV]  n_estimators=894, min_samples_split=10, min_samples_leaf=1, max_features=auto, max_depth=43, bootstrap=True, total=   3.9s\n",
            "[CV] n_estimators=261, min_samples_split=2, min_samples_leaf=2, max_features=auto, max_depth=65, bootstrap=True \n",
            "[CV]  n_estimators=261, min_samples_split=2, min_samples_leaf=2, max_features=auto, max_depth=65, bootstrap=True, total=   1.2s\n",
            "[CV] n_estimators=261, min_samples_split=2, min_samples_leaf=2, max_features=auto, max_depth=65, bootstrap=True \n",
            "[CV]  n_estimators=261, min_samples_split=2, min_samples_leaf=2, max_features=auto, max_depth=65, bootstrap=True, total=   1.1s\n",
            "[CV] n_estimators=261, min_samples_split=2, min_samples_leaf=2, max_features=auto, max_depth=65, bootstrap=True \n",
            "[CV]  n_estimators=261, min_samples_split=2, min_samples_leaf=2, max_features=auto, max_depth=65, bootstrap=True, total=   1.1s\n",
            "[CV] n_estimators=1000, min_samples_split=5, min_samples_leaf=1, max_features=auto, max_depth=None, bootstrap=False \n",
            "[CV]  n_estimators=1000, min_samples_split=5, min_samples_leaf=1, max_features=auto, max_depth=None, bootstrap=False, total=   6.1s\n",
            "[CV] n_estimators=1000, min_samples_split=5, min_samples_leaf=1, max_features=auto, max_depth=None, bootstrap=False \n",
            "[CV]  n_estimators=1000, min_samples_split=5, min_samples_leaf=1, max_features=auto, max_depth=None, bootstrap=False, total=   6.3s\n",
            "[CV] n_estimators=1000, min_samples_split=5, min_samples_leaf=1, max_features=auto, max_depth=None, bootstrap=False \n",
            "[CV]  n_estimators=1000, min_samples_split=5, min_samples_leaf=1, max_features=auto, max_depth=None, bootstrap=False, total=   7.4s\n",
            "[CV] n_estimators=894, min_samples_split=2, min_samples_leaf=1, max_features=auto, max_depth=10, bootstrap=True \n",
            "[CV]  n_estimators=894, min_samples_split=2, min_samples_leaf=1, max_features=auto, max_depth=10, bootstrap=True, total=   3.8s\n",
            "[CV] n_estimators=894, min_samples_split=2, min_samples_leaf=1, max_features=auto, max_depth=10, bootstrap=True \n",
            "[CV]  n_estimators=894, min_samples_split=2, min_samples_leaf=1, max_features=auto, max_depth=10, bootstrap=True, total=   3.7s\n",
            "[CV] n_estimators=894, min_samples_split=2, min_samples_leaf=1, max_features=auto, max_depth=10, bootstrap=True \n",
            "[CV]  n_estimators=894, min_samples_split=2, min_samples_leaf=1, max_features=auto, max_depth=10, bootstrap=True, total=   3.4s\n",
            "[CV] n_estimators=788, min_samples_split=10, min_samples_leaf=1, max_features=auto, max_depth=None, bootstrap=False \n",
            "[CV]  n_estimators=788, min_samples_split=10, min_samples_leaf=1, max_features=auto, max_depth=None, bootstrap=False, total=   4.7s\n",
            "[CV] n_estimators=788, min_samples_split=10, min_samples_leaf=1, max_features=auto, max_depth=None, bootstrap=False \n",
            "[CV]  n_estimators=788, min_samples_split=10, min_samples_leaf=1, max_features=auto, max_depth=None, bootstrap=False, total=   4.7s\n",
            "[CV] n_estimators=788, min_samples_split=10, min_samples_leaf=1, max_features=auto, max_depth=None, bootstrap=False \n",
            "[CV]  n_estimators=788, min_samples_split=10, min_samples_leaf=1, max_features=auto, max_depth=None, bootstrap=False, total=   4.8s\n",
            "[CV] n_estimators=894, min_samples_split=5, min_samples_leaf=4, max_features=auto, max_depth=32, bootstrap=True \n",
            "[CV]  n_estimators=894, min_samples_split=5, min_samples_leaf=4, max_features=auto, max_depth=32, bootstrap=True, total=   3.8s\n",
            "[CV] n_estimators=894, min_samples_split=5, min_samples_leaf=4, max_features=auto, max_depth=32, bootstrap=True \n",
            "[CV]  n_estimators=894, min_samples_split=5, min_samples_leaf=4, max_features=auto, max_depth=32, bootstrap=True, total=   3.7s\n",
            "[CV] n_estimators=894, min_samples_split=5, min_samples_leaf=4, max_features=auto, max_depth=32, bootstrap=True \n",
            "[CV]  n_estimators=894, min_samples_split=5, min_samples_leaf=4, max_features=auto, max_depth=32, bootstrap=True, total=   3.9s\n",
            "[CV] n_estimators=788, min_samples_split=2, min_samples_leaf=4, max_features=sqrt, max_depth=110, bootstrap=True \n",
            "[CV]  n_estimators=788, min_samples_split=2, min_samples_leaf=4, max_features=sqrt, max_depth=110, bootstrap=True, total=   3.5s\n",
            "[CV] n_estimators=788, min_samples_split=2, min_samples_leaf=4, max_features=sqrt, max_depth=110, bootstrap=True \n",
            "[CV]  n_estimators=788, min_samples_split=2, min_samples_leaf=4, max_features=sqrt, max_depth=110, bootstrap=True, total=   3.3s\n",
            "[CV] n_estimators=788, min_samples_split=2, min_samples_leaf=4, max_features=sqrt, max_depth=110, bootstrap=True \n",
            "[CV]  n_estimators=788, min_samples_split=2, min_samples_leaf=4, max_features=sqrt, max_depth=110, bootstrap=True, total=   3.4s\n",
            "[CV] n_estimators=1000, min_samples_split=5, min_samples_leaf=1, max_features=auto, max_depth=98, bootstrap=False \n",
            "[CV]  n_estimators=1000, min_samples_split=5, min_samples_leaf=1, max_features=auto, max_depth=98, bootstrap=False, total=   6.6s\n",
            "[CV] n_estimators=1000, min_samples_split=5, min_samples_leaf=1, max_features=auto, max_depth=98, bootstrap=False \n",
            "[CV]  n_estimators=1000, min_samples_split=5, min_samples_leaf=1, max_features=auto, max_depth=98, bootstrap=False, total=   6.7s\n",
            "[CV] n_estimators=1000, min_samples_split=5, min_samples_leaf=1, max_features=auto, max_depth=98, bootstrap=False \n",
            "[CV]  n_estimators=1000, min_samples_split=5, min_samples_leaf=1, max_features=auto, max_depth=98, bootstrap=False, total=   7.1s\n",
            "[CV] n_estimators=366, min_samples_split=5, min_samples_leaf=2, max_features=sqrt, max_depth=32, bootstrap=False \n",
            "[CV]  n_estimators=366, min_samples_split=5, min_samples_leaf=2, max_features=sqrt, max_depth=32, bootstrap=False, total=   2.0s\n",
            "[CV] n_estimators=366, min_samples_split=5, min_samples_leaf=2, max_features=sqrt, max_depth=32, bootstrap=False \n",
            "[CV]  n_estimators=366, min_samples_split=5, min_samples_leaf=2, max_features=sqrt, max_depth=32, bootstrap=False, total=   2.1s\n",
            "[CV] n_estimators=366, min_samples_split=5, min_samples_leaf=2, max_features=sqrt, max_depth=32, bootstrap=False \n",
            "[CV]  n_estimators=366, min_samples_split=5, min_samples_leaf=2, max_features=sqrt, max_depth=32, bootstrap=False, total=   2.1s\n",
            "[CV] n_estimators=1000, min_samples_split=10, min_samples_leaf=1, max_features=auto, max_depth=65, bootstrap=True \n",
            "[CV]  n_estimators=1000, min_samples_split=10, min_samples_leaf=1, max_features=auto, max_depth=65, bootstrap=True, total=   4.3s\n",
            "[CV] n_estimators=1000, min_samples_split=10, min_samples_leaf=1, max_features=auto, max_depth=65, bootstrap=True \n",
            "[CV]  n_estimators=1000, min_samples_split=10, min_samples_leaf=1, max_features=auto, max_depth=65, bootstrap=True, total=   4.5s\n",
            "[CV] n_estimators=1000, min_samples_split=10, min_samples_leaf=1, max_features=auto, max_depth=65, bootstrap=True \n",
            "[CV]  n_estimators=1000, min_samples_split=10, min_samples_leaf=1, max_features=auto, max_depth=65, bootstrap=True, total=   4.2s\n",
            "[CV] n_estimators=50, min_samples_split=5, min_samples_leaf=1, max_features=sqrt, max_depth=110, bootstrap=False \n",
            "[CV]  n_estimators=50, min_samples_split=5, min_samples_leaf=1, max_features=sqrt, max_depth=110, bootstrap=False, total=   0.3s\n",
            "[CV] n_estimators=50, min_samples_split=5, min_samples_leaf=1, max_features=sqrt, max_depth=110, bootstrap=False \n",
            "[CV]  n_estimators=50, min_samples_split=5, min_samples_leaf=1, max_features=sqrt, max_depth=110, bootstrap=False, total=   0.3s\n",
            "[CV] n_estimators=50, min_samples_split=5, min_samples_leaf=1, max_features=sqrt, max_depth=110, bootstrap=False \n",
            "[CV]  n_estimators=50, min_samples_split=5, min_samples_leaf=1, max_features=sqrt, max_depth=110, bootstrap=False, total=   0.3s\n",
            "[CV] n_estimators=683, min_samples_split=10, min_samples_leaf=2, max_features=sqrt, max_depth=65, bootstrap=False \n",
            "[CV]  n_estimators=683, min_samples_split=10, min_samples_leaf=2, max_features=sqrt, max_depth=65, bootstrap=False, total=   4.0s\n",
            "[CV] n_estimators=683, min_samples_split=10, min_samples_leaf=2, max_features=sqrt, max_depth=65, bootstrap=False \n",
            "[CV]  n_estimators=683, min_samples_split=10, min_samples_leaf=2, max_features=sqrt, max_depth=65, bootstrap=False, total=   3.9s\n",
            "[CV] n_estimators=683, min_samples_split=10, min_samples_leaf=2, max_features=sqrt, max_depth=65, bootstrap=False \n",
            "[CV]  n_estimators=683, min_samples_split=10, min_samples_leaf=2, max_features=sqrt, max_depth=65, bootstrap=False, total=   4.3s\n",
            "[CV] n_estimators=1000, min_samples_split=2, min_samples_leaf=1, max_features=sqrt, max_depth=65, bootstrap=True \n",
            "[CV]  n_estimators=1000, min_samples_split=2, min_samples_leaf=1, max_features=sqrt, max_depth=65, bootstrap=True, total=   5.4s\n",
            "[CV] n_estimators=1000, min_samples_split=2, min_samples_leaf=1, max_features=sqrt, max_depth=65, bootstrap=True \n",
            "[CV]  n_estimators=1000, min_samples_split=2, min_samples_leaf=1, max_features=sqrt, max_depth=65, bootstrap=True, total=   5.0s\n",
            "[CV] n_estimators=1000, min_samples_split=2, min_samples_leaf=1, max_features=sqrt, max_depth=65, bootstrap=True \n",
            "[CV]  n_estimators=1000, min_samples_split=2, min_samples_leaf=1, max_features=sqrt, max_depth=65, bootstrap=True, total=   4.8s\n",
            "[CV] n_estimators=577, min_samples_split=10, min_samples_leaf=2, max_features=sqrt, max_depth=110, bootstrap=True \n",
            "[CV]  n_estimators=577, min_samples_split=10, min_samples_leaf=2, max_features=sqrt, max_depth=110, bootstrap=True, total=   2.5s\n",
            "[CV] n_estimators=577, min_samples_split=10, min_samples_leaf=2, max_features=sqrt, max_depth=110, bootstrap=True \n",
            "[CV]  n_estimators=577, min_samples_split=10, min_samples_leaf=2, max_features=sqrt, max_depth=110, bootstrap=True, total=   2.4s\n",
            "[CV] n_estimators=577, min_samples_split=10, min_samples_leaf=2, max_features=sqrt, max_depth=110, bootstrap=True \n",
            "[CV]  n_estimators=577, min_samples_split=10, min_samples_leaf=2, max_features=sqrt, max_depth=110, bootstrap=True, total=   2.5s\n",
            "[CV] n_estimators=155, min_samples_split=2, min_samples_leaf=4, max_features=auto, max_depth=32, bootstrap=False \n",
            "[CV]  n_estimators=155, min_samples_split=2, min_samples_leaf=4, max_features=auto, max_depth=32, bootstrap=False, total=   1.0s\n",
            "[CV] n_estimators=155, min_samples_split=2, min_samples_leaf=4, max_features=auto, max_depth=32, bootstrap=False \n",
            "[CV]  n_estimators=155, min_samples_split=2, min_samples_leaf=4, max_features=auto, max_depth=32, bootstrap=False, total=   0.9s\n",
            "[CV] n_estimators=155, min_samples_split=2, min_samples_leaf=4, max_features=auto, max_depth=32, bootstrap=False \n",
            "[CV]  n_estimators=155, min_samples_split=2, min_samples_leaf=4, max_features=auto, max_depth=32, bootstrap=False, total=   0.9s\n",
            "[CV] n_estimators=577, min_samples_split=10, min_samples_leaf=4, max_features=auto, max_depth=54, bootstrap=True \n",
            "[CV]  n_estimators=577, min_samples_split=10, min_samples_leaf=4, max_features=auto, max_depth=54, bootstrap=True, total=   2.3s\n",
            "[CV] n_estimators=577, min_samples_split=10, min_samples_leaf=4, max_features=auto, max_depth=54, bootstrap=True \n",
            "[CV]  n_estimators=577, min_samples_split=10, min_samples_leaf=4, max_features=auto, max_depth=54, bootstrap=True, total=   2.3s\n",
            "[CV] n_estimators=577, min_samples_split=10, min_samples_leaf=4, max_features=auto, max_depth=54, bootstrap=True \n",
            "[CV]  n_estimators=577, min_samples_split=10, min_samples_leaf=4, max_features=auto, max_depth=54, bootstrap=True, total=   2.3s\n",
            "[CV] n_estimators=1000, min_samples_split=2, min_samples_leaf=2, max_features=auto, max_depth=10, bootstrap=False \n",
            "[CV]  n_estimators=1000, min_samples_split=2, min_samples_leaf=2, max_features=auto, max_depth=10, bootstrap=False, total=   4.8s\n",
            "[CV] n_estimators=1000, min_samples_split=2, min_samples_leaf=2, max_features=auto, max_depth=10, bootstrap=False \n",
            "[CV]  n_estimators=1000, min_samples_split=2, min_samples_leaf=2, max_features=auto, max_depth=10, bootstrap=False, total=   4.8s\n",
            "[CV] n_estimators=1000, min_samples_split=2, min_samples_leaf=2, max_features=auto, max_depth=10, bootstrap=False \n",
            "[CV]  n_estimators=1000, min_samples_split=2, min_samples_leaf=2, max_features=auto, max_depth=10, bootstrap=False, total=   4.9s\n",
            "[CV] n_estimators=894, min_samples_split=10, min_samples_leaf=4, max_features=sqrt, max_depth=98, bootstrap=False \n",
            "[CV]  n_estimators=894, min_samples_split=10, min_samples_leaf=4, max_features=sqrt, max_depth=98, bootstrap=False, total=   4.9s\n",
            "[CV] n_estimators=894, min_samples_split=10, min_samples_leaf=4, max_features=sqrt, max_depth=98, bootstrap=False \n",
            "[CV]  n_estimators=894, min_samples_split=10, min_samples_leaf=4, max_features=sqrt, max_depth=98, bootstrap=False, total=   5.4s\n",
            "[CV] n_estimators=894, min_samples_split=10, min_samples_leaf=4, max_features=sqrt, max_depth=98, bootstrap=False \n",
            "[CV]  n_estimators=894, min_samples_split=10, min_samples_leaf=4, max_features=sqrt, max_depth=98, bootstrap=False, total=   5.9s\n",
            "[CV] n_estimators=50, min_samples_split=2, min_samples_leaf=2, max_features=sqrt, max_depth=87, bootstrap=False \n",
            "[CV]  n_estimators=50, min_samples_split=2, min_samples_leaf=2, max_features=sqrt, max_depth=87, bootstrap=False, total=   0.4s\n",
            "[CV] n_estimators=50, min_samples_split=2, min_samples_leaf=2, max_features=sqrt, max_depth=87, bootstrap=False \n",
            "[CV]  n_estimators=50, min_samples_split=2, min_samples_leaf=2, max_features=sqrt, max_depth=87, bootstrap=False, total=   0.4s\n",
            "[CV] n_estimators=50, min_samples_split=2, min_samples_leaf=2, max_features=sqrt, max_depth=87, bootstrap=False \n",
            "[CV]  n_estimators=50, min_samples_split=2, min_samples_leaf=2, max_features=sqrt, max_depth=87, bootstrap=False, total=   0.3s\n",
            "[CV] n_estimators=261, min_samples_split=2, min_samples_leaf=2, max_features=auto, max_depth=10, bootstrap=True \n",
            "[CV]  n_estimators=261, min_samples_split=2, min_samples_leaf=2, max_features=auto, max_depth=10, bootstrap=True, total=   1.1s\n",
            "[CV] n_estimators=261, min_samples_split=2, min_samples_leaf=2, max_features=auto, max_depth=10, bootstrap=True \n",
            "[CV]  n_estimators=261, min_samples_split=2, min_samples_leaf=2, max_features=auto, max_depth=10, bootstrap=True, total=   1.3s\n",
            "[CV] n_estimators=261, min_samples_split=2, min_samples_leaf=2, max_features=auto, max_depth=10, bootstrap=True \n",
            "[CV]  n_estimators=261, min_samples_split=2, min_samples_leaf=2, max_features=auto, max_depth=10, bootstrap=True, total=   1.3s\n",
            "[CV] n_estimators=261, min_samples_split=10, min_samples_leaf=1, max_features=auto, max_depth=None, bootstrap=True \n",
            "[CV]  n_estimators=261, min_samples_split=10, min_samples_leaf=1, max_features=auto, max_depth=None, bootstrap=True, total=   1.3s\n",
            "[CV] n_estimators=261, min_samples_split=10, min_samples_leaf=1, max_features=auto, max_depth=None, bootstrap=True \n",
            "[CV]  n_estimators=261, min_samples_split=10, min_samples_leaf=1, max_features=auto, max_depth=None, bootstrap=True, total=   1.1s\n",
            "[CV] n_estimators=261, min_samples_split=10, min_samples_leaf=1, max_features=auto, max_depth=None, bootstrap=True \n",
            "[CV]  n_estimators=261, min_samples_split=10, min_samples_leaf=1, max_features=auto, max_depth=None, bootstrap=True, total=   1.5s\n",
            "[CV] n_estimators=261, min_samples_split=2, min_samples_leaf=1, max_features=sqrt, max_depth=98, bootstrap=True \n",
            "[CV]  n_estimators=261, min_samples_split=2, min_samples_leaf=1, max_features=sqrt, max_depth=98, bootstrap=True, total=   1.6s\n",
            "[CV] n_estimators=261, min_samples_split=2, min_samples_leaf=1, max_features=sqrt, max_depth=98, bootstrap=True \n",
            "[CV]  n_estimators=261, min_samples_split=2, min_samples_leaf=1, max_features=sqrt, max_depth=98, bootstrap=True, total=   1.6s\n",
            "[CV] n_estimators=261, min_samples_split=2, min_samples_leaf=1, max_features=sqrt, max_depth=98, bootstrap=True \n",
            "[CV]  n_estimators=261, min_samples_split=2, min_samples_leaf=1, max_features=sqrt, max_depth=98, bootstrap=True, total=   1.8s\n",
            "[CV] n_estimators=577, min_samples_split=5, min_samples_leaf=2, max_features=sqrt, max_depth=54, bootstrap=False \n",
            "[CV]  n_estimators=577, min_samples_split=5, min_samples_leaf=2, max_features=sqrt, max_depth=54, bootstrap=False, total=   4.3s\n",
            "[CV] n_estimators=577, min_samples_split=5, min_samples_leaf=2, max_features=sqrt, max_depth=54, bootstrap=False \n",
            "[CV]  n_estimators=577, min_samples_split=5, min_samples_leaf=2, max_features=sqrt, max_depth=54, bootstrap=False, total=   3.4s\n",
            "[CV] n_estimators=577, min_samples_split=5, min_samples_leaf=2, max_features=sqrt, max_depth=54, bootstrap=False \n",
            "[CV]  n_estimators=577, min_samples_split=5, min_samples_leaf=2, max_features=sqrt, max_depth=54, bootstrap=False, total=   3.7s\n",
            "[CV] n_estimators=683, min_samples_split=5, min_samples_leaf=4, max_features=sqrt, max_depth=110, bootstrap=False \n",
            "[CV]  n_estimators=683, min_samples_split=5, min_samples_leaf=4, max_features=sqrt, max_depth=110, bootstrap=False, total=   4.4s\n",
            "[CV] n_estimators=683, min_samples_split=5, min_samples_leaf=4, max_features=sqrt, max_depth=110, bootstrap=False \n",
            "[CV]  n_estimators=683, min_samples_split=5, min_samples_leaf=4, max_features=sqrt, max_depth=110, bootstrap=False, total=   4.3s\n",
            "[CV] n_estimators=683, min_samples_split=5, min_samples_leaf=4, max_features=sqrt, max_depth=110, bootstrap=False \n",
            "[CV]  n_estimators=683, min_samples_split=5, min_samples_leaf=4, max_features=sqrt, max_depth=110, bootstrap=False, total=   4.4s\n",
            "[CV] n_estimators=683, min_samples_split=2, min_samples_leaf=2, max_features=auto, max_depth=10, bootstrap=False \n",
            "[CV]  n_estimators=683, min_samples_split=2, min_samples_leaf=2, max_features=auto, max_depth=10, bootstrap=False, total=   3.3s\n",
            "[CV] n_estimators=683, min_samples_split=2, min_samples_leaf=2, max_features=auto, max_depth=10, bootstrap=False \n",
            "[CV]  n_estimators=683, min_samples_split=2, min_samples_leaf=2, max_features=auto, max_depth=10, bootstrap=False, total=   3.4s\n",
            "[CV] n_estimators=683, min_samples_split=2, min_samples_leaf=2, max_features=auto, max_depth=10, bootstrap=False \n",
            "[CV]  n_estimators=683, min_samples_split=2, min_samples_leaf=2, max_features=auto, max_depth=10, bootstrap=False, total=   3.4s\n",
            "[CV] n_estimators=50, min_samples_split=2, min_samples_leaf=1, max_features=auto, max_depth=None, bootstrap=True \n",
            "[CV]  n_estimators=50, min_samples_split=2, min_samples_leaf=1, max_features=auto, max_depth=None, bootstrap=True, total=   0.2s\n",
            "[CV] n_estimators=50, min_samples_split=2, min_samples_leaf=1, max_features=auto, max_depth=None, bootstrap=True \n",
            "[CV]  n_estimators=50, min_samples_split=2, min_samples_leaf=1, max_features=auto, max_depth=None, bootstrap=True, total=   0.2s\n",
            "[CV] n_estimators=50, min_samples_split=2, min_samples_leaf=1, max_features=auto, max_depth=None, bootstrap=True \n",
            "[CV]  n_estimators=50, min_samples_split=2, min_samples_leaf=1, max_features=auto, max_depth=None, bootstrap=True, total=   0.2s\n",
            "[CV] n_estimators=1000, min_samples_split=5, min_samples_leaf=1, max_features=auto, max_depth=10, bootstrap=False \n",
            "[CV]  n_estimators=1000, min_samples_split=5, min_samples_leaf=1, max_features=auto, max_depth=10, bootstrap=False, total=   5.1s\n",
            "[CV] n_estimators=1000, min_samples_split=5, min_samples_leaf=1, max_features=auto, max_depth=10, bootstrap=False \n",
            "[CV]  n_estimators=1000, min_samples_split=5, min_samples_leaf=1, max_features=auto, max_depth=10, bootstrap=False, total=   5.2s\n",
            "[CV] n_estimators=1000, min_samples_split=5, min_samples_leaf=1, max_features=auto, max_depth=10, bootstrap=False \n",
            "[CV]  n_estimators=1000, min_samples_split=5, min_samples_leaf=1, max_features=auto, max_depth=10, bootstrap=False, total=   5.2s\n",
            "[CV] n_estimators=577, min_samples_split=5, min_samples_leaf=2, max_features=sqrt, max_depth=76, bootstrap=False \n",
            "[CV]  n_estimators=577, min_samples_split=5, min_samples_leaf=2, max_features=sqrt, max_depth=76, bootstrap=False, total=   3.6s\n",
            "[CV] n_estimators=577, min_samples_split=5, min_samples_leaf=2, max_features=sqrt, max_depth=76, bootstrap=False \n",
            "[CV]  n_estimators=577, min_samples_split=5, min_samples_leaf=2, max_features=sqrt, max_depth=76, bootstrap=False, total=   3.5s\n",
            "[CV] n_estimators=577, min_samples_split=5, min_samples_leaf=2, max_features=sqrt, max_depth=76, bootstrap=False \n",
            "[CV]  n_estimators=577, min_samples_split=5, min_samples_leaf=2, max_features=sqrt, max_depth=76, bootstrap=False, total=   3.8s\n",
            "[CV] n_estimators=577, min_samples_split=2, min_samples_leaf=2, max_features=auto, max_depth=10, bootstrap=False \n",
            "[CV]  n_estimators=577, min_samples_split=2, min_samples_leaf=2, max_features=auto, max_depth=10, bootstrap=False, total=   2.7s\n",
            "[CV] n_estimators=577, min_samples_split=2, min_samples_leaf=2, max_features=auto, max_depth=10, bootstrap=False \n",
            "[CV]  n_estimators=577, min_samples_split=2, min_samples_leaf=2, max_features=auto, max_depth=10, bootstrap=False, total=   3.0s\n",
            "[CV] n_estimators=577, min_samples_split=2, min_samples_leaf=2, max_features=auto, max_depth=10, bootstrap=False \n",
            "[CV]  n_estimators=577, min_samples_split=2, min_samples_leaf=2, max_features=auto, max_depth=10, bootstrap=False, total=   2.8s\n",
            "[CV] n_estimators=261, min_samples_split=5, min_samples_leaf=4, max_features=auto, max_depth=32, bootstrap=True \n",
            "[CV]  n_estimators=261, min_samples_split=5, min_samples_leaf=4, max_features=auto, max_depth=32, bootstrap=True, total=   1.1s\n",
            "[CV] n_estimators=261, min_samples_split=5, min_samples_leaf=4, max_features=auto, max_depth=32, bootstrap=True \n",
            "[CV]  n_estimators=261, min_samples_split=5, min_samples_leaf=4, max_features=auto, max_depth=32, bootstrap=True, total=   1.0s\n",
            "[CV] n_estimators=261, min_samples_split=5, min_samples_leaf=4, max_features=auto, max_depth=32, bootstrap=True \n",
            "[CV]  n_estimators=261, min_samples_split=5, min_samples_leaf=4, max_features=auto, max_depth=32, bootstrap=True, total=   1.1s\n",
            "[CV] n_estimators=894, min_samples_split=5, min_samples_leaf=2, max_features=auto, max_depth=76, bootstrap=True \n",
            "[CV]  n_estimators=894, min_samples_split=5, min_samples_leaf=2, max_features=auto, max_depth=76, bootstrap=True, total=   4.0s\n",
            "[CV] n_estimators=894, min_samples_split=5, min_samples_leaf=2, max_features=auto, max_depth=76, bootstrap=True \n",
            "[CV]  n_estimators=894, min_samples_split=5, min_samples_leaf=2, max_features=auto, max_depth=76, bootstrap=True, total=   3.7s\n",
            "[CV] n_estimators=894, min_samples_split=5, min_samples_leaf=2, max_features=auto, max_depth=76, bootstrap=True \n",
            "[CV]  n_estimators=894, min_samples_split=5, min_samples_leaf=2, max_features=auto, max_depth=76, bootstrap=True, total=   3.8s\n",
            "[CV] n_estimators=1000, min_samples_split=10, min_samples_leaf=4, max_features=auto, max_depth=54, bootstrap=False \n",
            "[CV]  n_estimators=1000, min_samples_split=10, min_samples_leaf=4, max_features=auto, max_depth=54, bootstrap=False, total=   5.2s\n",
            "[CV] n_estimators=1000, min_samples_split=10, min_samples_leaf=4, max_features=auto, max_depth=54, bootstrap=False \n",
            "[CV]  n_estimators=1000, min_samples_split=10, min_samples_leaf=4, max_features=auto, max_depth=54, bootstrap=False, total=   5.1s\n",
            "[CV] n_estimators=1000, min_samples_split=10, min_samples_leaf=4, max_features=auto, max_depth=54, bootstrap=False \n",
            "[CV]  n_estimators=1000, min_samples_split=10, min_samples_leaf=4, max_features=auto, max_depth=54, bootstrap=False, total=   5.2s\n",
            "[CV] n_estimators=366, min_samples_split=2, min_samples_leaf=4, max_features=sqrt, max_depth=None, bootstrap=True \n",
            "[CV]  n_estimators=366, min_samples_split=2, min_samples_leaf=4, max_features=sqrt, max_depth=None, bootstrap=True, total=   1.5s\n",
            "[CV] n_estimators=366, min_samples_split=2, min_samples_leaf=4, max_features=sqrt, max_depth=None, bootstrap=True \n",
            "[CV]  n_estimators=366, min_samples_split=2, min_samples_leaf=4, max_features=sqrt, max_depth=None, bootstrap=True, total=   1.5s\n",
            "[CV] n_estimators=366, min_samples_split=2, min_samples_leaf=4, max_features=sqrt, max_depth=None, bootstrap=True \n",
            "[CV]  n_estimators=366, min_samples_split=2, min_samples_leaf=4, max_features=sqrt, max_depth=None, bootstrap=True, total=   1.5s\n",
            "[CV] n_estimators=788, min_samples_split=2, min_samples_leaf=1, max_features=sqrt, max_depth=32, bootstrap=True \n",
            "[CV]  n_estimators=788, min_samples_split=2, min_samples_leaf=1, max_features=sqrt, max_depth=32, bootstrap=True, total=   3.5s\n",
            "[CV] n_estimators=788, min_samples_split=2, min_samples_leaf=1, max_features=sqrt, max_depth=32, bootstrap=True \n",
            "[CV]  n_estimators=788, min_samples_split=2, min_samples_leaf=1, max_features=sqrt, max_depth=32, bootstrap=True, total=   3.4s\n",
            "[CV] n_estimators=788, min_samples_split=2, min_samples_leaf=1, max_features=sqrt, max_depth=32, bootstrap=True \n",
            "[CV]  n_estimators=788, min_samples_split=2, min_samples_leaf=1, max_features=sqrt, max_depth=32, bootstrap=True, total=   3.5s\n",
            "[CV] n_estimators=1000, min_samples_split=2, min_samples_leaf=2, max_features=sqrt, max_depth=110, bootstrap=False \n",
            "[CV]  n_estimators=1000, min_samples_split=2, min_samples_leaf=2, max_features=sqrt, max_depth=110, bootstrap=False, total=   5.8s\n",
            "[CV] n_estimators=1000, min_samples_split=2, min_samples_leaf=2, max_features=sqrt, max_depth=110, bootstrap=False \n",
            "[CV]  n_estimators=1000, min_samples_split=2, min_samples_leaf=2, max_features=sqrt, max_depth=110, bootstrap=False, total=   6.0s\n",
            "[CV] n_estimators=1000, min_samples_split=2, min_samples_leaf=2, max_features=sqrt, max_depth=110, bootstrap=False \n",
            "[CV]  n_estimators=1000, min_samples_split=2, min_samples_leaf=2, max_features=sqrt, max_depth=110, bootstrap=False, total=   5.7s\n",
            "[CV] n_estimators=788, min_samples_split=10, min_samples_leaf=2, max_features=sqrt, max_depth=21, bootstrap=False \n",
            "[CV]  n_estimators=788, min_samples_split=10, min_samples_leaf=2, max_features=sqrt, max_depth=21, bootstrap=False, total=   4.4s\n",
            "[CV] n_estimators=788, min_samples_split=10, min_samples_leaf=2, max_features=sqrt, max_depth=21, bootstrap=False \n",
            "[CV]  n_estimators=788, min_samples_split=10, min_samples_leaf=2, max_features=sqrt, max_depth=21, bootstrap=False, total=   4.4s\n",
            "[CV] n_estimators=788, min_samples_split=10, min_samples_leaf=2, max_features=sqrt, max_depth=21, bootstrap=False \n",
            "[CV]  n_estimators=788, min_samples_split=10, min_samples_leaf=2, max_features=sqrt, max_depth=21, bootstrap=False, total=   4.4s\n",
            "[CV] n_estimators=577, min_samples_split=2, min_samples_leaf=2, max_features=auto, max_depth=54, bootstrap=True \n",
            "[CV]  n_estimators=577, min_samples_split=2, min_samples_leaf=2, max_features=auto, max_depth=54, bootstrap=True, total=   2.5s\n",
            "[CV] n_estimators=577, min_samples_split=2, min_samples_leaf=2, max_features=auto, max_depth=54, bootstrap=True \n",
            "[CV]  n_estimators=577, min_samples_split=2, min_samples_leaf=2, max_features=auto, max_depth=54, bootstrap=True, total=   2.5s\n",
            "[CV] n_estimators=577, min_samples_split=2, min_samples_leaf=2, max_features=auto, max_depth=54, bootstrap=True \n",
            "[CV]  n_estimators=577, min_samples_split=2, min_samples_leaf=2, max_features=auto, max_depth=54, bootstrap=True, total=   2.5s\n",
            "[CV] n_estimators=894, min_samples_split=10, min_samples_leaf=4, max_features=sqrt, max_depth=110, bootstrap=True \n",
            "[CV]  n_estimators=894, min_samples_split=10, min_samples_leaf=4, max_features=sqrt, max_depth=110, bootstrap=True, total=   3.6s\n",
            "[CV] n_estimators=894, min_samples_split=10, min_samples_leaf=4, max_features=sqrt, max_depth=110, bootstrap=True \n",
            "[CV]  n_estimators=894, min_samples_split=10, min_samples_leaf=4, max_features=sqrt, max_depth=110, bootstrap=True, total=   3.7s\n",
            "[CV] n_estimators=894, min_samples_split=10, min_samples_leaf=4, max_features=sqrt, max_depth=110, bootstrap=True \n",
            "[CV]  n_estimators=894, min_samples_split=10, min_samples_leaf=4, max_features=sqrt, max_depth=110, bootstrap=True, total=   4.4s\n",
            "[CV] n_estimators=472, min_samples_split=2, min_samples_leaf=2, max_features=auto, max_depth=76, bootstrap=False \n",
            "[CV]  n_estimators=472, min_samples_split=2, min_samples_leaf=2, max_features=auto, max_depth=76, bootstrap=False, total=   3.5s\n",
            "[CV] n_estimators=472, min_samples_split=2, min_samples_leaf=2, max_features=auto, max_depth=76, bootstrap=False \n",
            "[CV]  n_estimators=472, min_samples_split=2, min_samples_leaf=2, max_features=auto, max_depth=76, bootstrap=False, total=   3.3s\n",
            "[CV] n_estimators=472, min_samples_split=2, min_samples_leaf=2, max_features=auto, max_depth=76, bootstrap=False \n",
            "[CV]  n_estimators=472, min_samples_split=2, min_samples_leaf=2, max_features=auto, max_depth=76, bootstrap=False, total=   2.9s\n",
            "[CV] n_estimators=894, min_samples_split=10, min_samples_leaf=4, max_features=auto, max_depth=87, bootstrap=False \n",
            "[CV]  n_estimators=894, min_samples_split=10, min_samples_leaf=4, max_features=auto, max_depth=87, bootstrap=False, total=   5.5s\n",
            "[CV] n_estimators=894, min_samples_split=10, min_samples_leaf=4, max_features=auto, max_depth=87, bootstrap=False \n",
            "[CV]  n_estimators=894, min_samples_split=10, min_samples_leaf=4, max_features=auto, max_depth=87, bootstrap=False, total=   5.8s\n",
            "[CV] n_estimators=894, min_samples_split=10, min_samples_leaf=4, max_features=auto, max_depth=87, bootstrap=False \n",
            "[CV]  n_estimators=894, min_samples_split=10, min_samples_leaf=4, max_features=auto, max_depth=87, bootstrap=False, total=   6.3s\n",
            "[CV] n_estimators=894, min_samples_split=5, min_samples_leaf=4, max_features=sqrt, max_depth=10, bootstrap=False \n",
            "[CV]  n_estimators=894, min_samples_split=5, min_samples_leaf=4, max_features=sqrt, max_depth=10, bootstrap=False, total=   4.9s\n",
            "[CV] n_estimators=894, min_samples_split=5, min_samples_leaf=4, max_features=sqrt, max_depth=10, bootstrap=False \n",
            "[CV]  n_estimators=894, min_samples_split=5, min_samples_leaf=4, max_features=sqrt, max_depth=10, bootstrap=False, total=   4.8s\n",
            "[CV] n_estimators=894, min_samples_split=5, min_samples_leaf=4, max_features=sqrt, max_depth=10, bootstrap=False \n",
            "[CV]  n_estimators=894, min_samples_split=5, min_samples_leaf=4, max_features=sqrt, max_depth=10, bootstrap=False, total=   4.6s\n",
            "[CV] n_estimators=894, min_samples_split=5, min_samples_leaf=4, max_features=auto, max_depth=87, bootstrap=True \n",
            "[CV]  n_estimators=894, min_samples_split=5, min_samples_leaf=4, max_features=auto, max_depth=87, bootstrap=True, total=   4.3s\n",
            "[CV] n_estimators=894, min_samples_split=5, min_samples_leaf=4, max_features=auto, max_depth=87, bootstrap=True \n",
            "[CV]  n_estimators=894, min_samples_split=5, min_samples_leaf=4, max_features=auto, max_depth=87, bootstrap=True, total=   4.1s\n",
            "[CV] n_estimators=894, min_samples_split=5, min_samples_leaf=4, max_features=auto, max_depth=87, bootstrap=True \n",
            "[CV]  n_estimators=894, min_samples_split=5, min_samples_leaf=4, max_features=auto, max_depth=87, bootstrap=True, total=   3.5s\n",
            "[CV] n_estimators=1000, min_samples_split=10, min_samples_leaf=1, max_features=sqrt, max_depth=21, bootstrap=False \n",
            "[CV]  n_estimators=1000, min_samples_split=10, min_samples_leaf=1, max_features=sqrt, max_depth=21, bootstrap=False, total=   6.4s\n",
            "[CV] n_estimators=1000, min_samples_split=10, min_samples_leaf=1, max_features=sqrt, max_depth=21, bootstrap=False \n",
            "[CV]  n_estimators=1000, min_samples_split=10, min_samples_leaf=1, max_features=sqrt, max_depth=21, bootstrap=False, total=   6.6s\n",
            "[CV] n_estimators=1000, min_samples_split=10, min_samples_leaf=1, max_features=sqrt, max_depth=21, bootstrap=False \n",
            "[CV]  n_estimators=1000, min_samples_split=10, min_samples_leaf=1, max_features=sqrt, max_depth=21, bootstrap=False, total=   7.3s\n",
            "[CV] n_estimators=50, min_samples_split=10, min_samples_leaf=2, max_features=auto, max_depth=32, bootstrap=True \n",
            "[CV]  n_estimators=50, min_samples_split=10, min_samples_leaf=2, max_features=auto, max_depth=32, bootstrap=True, total=   0.4s\n",
            "[CV] n_estimators=50, min_samples_split=10, min_samples_leaf=2, max_features=auto, max_depth=32, bootstrap=True \n",
            "[CV]  n_estimators=50, min_samples_split=10, min_samples_leaf=2, max_features=auto, max_depth=32, bootstrap=True, total=   0.3s\n",
            "[CV] n_estimators=50, min_samples_split=10, min_samples_leaf=2, max_features=auto, max_depth=32, bootstrap=True \n",
            "[CV]  n_estimators=50, min_samples_split=10, min_samples_leaf=2, max_features=auto, max_depth=32, bootstrap=True, total=   0.2s\n",
            "[CV] n_estimators=683, min_samples_split=5, min_samples_leaf=1, max_features=auto, max_depth=21, bootstrap=False \n",
            "[CV]  n_estimators=683, min_samples_split=5, min_samples_leaf=1, max_features=auto, max_depth=21, bootstrap=False, total=   4.8s\n",
            "[CV] n_estimators=683, min_samples_split=5, min_samples_leaf=1, max_features=auto, max_depth=21, bootstrap=False \n",
            "[CV]  n_estimators=683, min_samples_split=5, min_samples_leaf=1, max_features=auto, max_depth=21, bootstrap=False, total=   4.2s\n",
            "[CV] n_estimators=683, min_samples_split=5, min_samples_leaf=1, max_features=auto, max_depth=21, bootstrap=False \n",
            "[CV]  n_estimators=683, min_samples_split=5, min_samples_leaf=1, max_features=auto, max_depth=21, bootstrap=False, total=   4.3s\n",
            "[CV] n_estimators=683, min_samples_split=5, min_samples_leaf=4, max_features=sqrt, max_depth=10, bootstrap=True \n",
            "[CV]  n_estimators=683, min_samples_split=5, min_samples_leaf=4, max_features=sqrt, max_depth=10, bootstrap=True, total=   2.6s\n",
            "[CV] n_estimators=683, min_samples_split=5, min_samples_leaf=4, max_features=sqrt, max_depth=10, bootstrap=True \n",
            "[CV]  n_estimators=683, min_samples_split=5, min_samples_leaf=4, max_features=sqrt, max_depth=10, bootstrap=True, total=   2.7s\n",
            "[CV] n_estimators=683, min_samples_split=5, min_samples_leaf=4, max_features=sqrt, max_depth=10, bootstrap=True \n",
            "[CV]  n_estimators=683, min_samples_split=5, min_samples_leaf=4, max_features=sqrt, max_depth=10, bootstrap=True, total=   2.5s\n",
            "[CV] n_estimators=50, min_samples_split=10, min_samples_leaf=2, max_features=auto, max_depth=98, bootstrap=True \n",
            "[CV]  n_estimators=50, min_samples_split=10, min_samples_leaf=2, max_features=auto, max_depth=98, bootstrap=True, total=   0.3s\n",
            "[CV] n_estimators=50, min_samples_split=10, min_samples_leaf=2, max_features=auto, max_depth=98, bootstrap=True \n",
            "[CV]  n_estimators=50, min_samples_split=10, min_samples_leaf=2, max_features=auto, max_depth=98, bootstrap=True, total=   0.3s\n",
            "[CV] n_estimators=50, min_samples_split=10, min_samples_leaf=2, max_features=auto, max_depth=98, bootstrap=True \n",
            "[CV]  n_estimators=50, min_samples_split=10, min_samples_leaf=2, max_features=auto, max_depth=98, bootstrap=True, total=   0.2s\n",
            "[CV] n_estimators=472, min_samples_split=2, min_samples_leaf=1, max_features=auto, max_depth=65, bootstrap=False \n",
            "[CV]  n_estimators=472, min_samples_split=2, min_samples_leaf=1, max_features=auto, max_depth=65, bootstrap=False, total=   3.1s\n",
            "[CV] n_estimators=472, min_samples_split=2, min_samples_leaf=1, max_features=auto, max_depth=65, bootstrap=False \n",
            "[CV]  n_estimators=472, min_samples_split=2, min_samples_leaf=1, max_features=auto, max_depth=65, bootstrap=False, total=   3.0s\n",
            "[CV] n_estimators=472, min_samples_split=2, min_samples_leaf=1, max_features=auto, max_depth=65, bootstrap=False \n",
            "[CV]  n_estimators=472, min_samples_split=2, min_samples_leaf=1, max_features=auto, max_depth=65, bootstrap=False, total=   3.2s\n",
            "[CV] n_estimators=261, min_samples_split=10, min_samples_leaf=1, max_features=auto, max_depth=110, bootstrap=False \n",
            "[CV]  n_estimators=261, min_samples_split=10, min_samples_leaf=1, max_features=auto, max_depth=110, bootstrap=False, total=   1.6s\n",
            "[CV] n_estimators=261, min_samples_split=10, min_samples_leaf=1, max_features=auto, max_depth=110, bootstrap=False \n",
            "[CV]  n_estimators=261, min_samples_split=10, min_samples_leaf=1, max_features=auto, max_depth=110, bootstrap=False, total=   1.6s\n",
            "[CV] n_estimators=261, min_samples_split=10, min_samples_leaf=1, max_features=auto, max_depth=110, bootstrap=False \n",
            "[CV]  n_estimators=261, min_samples_split=10, min_samples_leaf=1, max_features=auto, max_depth=110, bootstrap=False, total=   1.6s\n",
            "[CV] n_estimators=577, min_samples_split=10, min_samples_leaf=1, max_features=sqrt, max_depth=43, bootstrap=True \n",
            "[CV]  n_estimators=577, min_samples_split=10, min_samples_leaf=1, max_features=sqrt, max_depth=43, bootstrap=True, total=   3.0s\n",
            "[CV] n_estimators=577, min_samples_split=10, min_samples_leaf=1, max_features=sqrt, max_depth=43, bootstrap=True \n",
            "[CV]  n_estimators=577, min_samples_split=10, min_samples_leaf=1, max_features=sqrt, max_depth=43, bootstrap=True, total=   3.3s\n",
            "[CV] n_estimators=577, min_samples_split=10, min_samples_leaf=1, max_features=sqrt, max_depth=43, bootstrap=True \n",
            "[CV]  n_estimators=577, min_samples_split=10, min_samples_leaf=1, max_features=sqrt, max_depth=43, bootstrap=True, total=   2.9s\n"
          ]
        },
        {
          "name": "stderr",
          "output_type": "stream",
          "text": [
            "[Parallel(n_jobs=1)]: Done 300 out of 300 | elapsed: 14.9min finished\n"
          ]
        },
        {
          "name": "stdout",
          "output_type": "stream",
          "text": [
            "              precision    recall  f1-score   support\n",
            "\n",
            "           0       0.79      0.71      0.75       321\n",
            "           1       0.83      0.90      0.86       624\n",
            "           2       1.00      0.37      0.54        35\n",
            "\n",
            "    accuracy                           0.82       980\n",
            "   macro avg       0.87      0.66      0.72       980\n",
            "weighted avg       0.82      0.82      0.82       980\n",
            "\n"
          ]
        }
      ],
      "source": [
        "# number of trees in random forest\n",
        "n_estimators = [int(x) for x in np.linspace(start=50, stop=1000, num=10)]\n",
        "# number of features to consider at every split\n",
        "max_features = ['auto', 'sqrt']\n",
        "# max number of levels in tree\n",
        "max_depth = [int(x) for x in np.linspace(10, 110, num=10)] + [None]\n",
        "# min number of samples required to split a node\n",
        "min_samples_split = [2, 5, 10]\n",
        "# min number of samples required at each leaf node\n",
        "min_samples_leaf = [1, 2, 4]\n",
        "# method of selecting samples for training each tree\n",
        "bootstrap = [True, False]\n",
        "\n",
        "# random grid\n",
        "random_grid = {'n_estimators': n_estimators,\n",
        "              'max_features': max_features,\n",
        "              'max_depth': max_depth,\n",
        "              'min_samples_split': min_samples_split,\n",
        "              'min_samples_leaf': min_samples_leaf,\n",
        "              'bootstrap': bootstrap}\n",
        "\n",
        "rfc_optimized = RandomizedSearchCV(estimator=rfc, param_distributions=random_grid, n_iter=100, cv=3, verbose=2, random_state=42)\n",
        "\n",
        "# print(rf_optimized.best_params_)\n",
        "\n",
        "rfc_optimized.fit(x_train, y_train)\n",
        "pred_optimized = rfc_optimized.predict(x_test)\n",
        "print(classification_report(y_test, pred_optimized))\n"
      ]
    },
    {
      "cell_type": "code",
      "execution_count": null,
      "metadata": {
        "id": "j6cz6YspoHyX",
        "outputId": "74e5597d-80c2-4b1e-ccf5-673a547c2c1f"
      },
      "outputs": [
        {
          "name": "stdout",
          "output_type": "stream",
          "text": [
            "              precision    recall  f1-score   support\n",
            "\n",
            "           0       0.79      0.71      0.75       321\n",
            "           1       0.83      0.90      0.86       624\n",
            "           2       1.00      0.37      0.54        35\n",
            "\n",
            "    accuracy                           0.82       980\n",
            "   macro avg       0.87      0.66      0.72       980\n",
            "weighted avg       0.82      0.82      0.82       980\n",
            "\n",
            "{'n_estimators': 1000, 'min_samples_split': 5, 'min_samples_leaf': 1, 'max_features': 'sqrt', 'max_depth': 54, 'bootstrap': True}\n"
          ]
        }
      ],
      "source": [
        "print(classification_report(y_test, pred_optimized))\n",
        "print(rfc_optimized.best_params_)"
      ]
    },
    {
      "cell_type": "code",
      "execution_count": null,
      "metadata": {
        "id": "Bj59OgqsoHyX",
        "outputId": "b4f6242d-7838-4a19-9ab6-bf8b94a75038"
      },
      "outputs": [
        {
          "data": {
            "text/plain": [
              "0.8055058980113785"
            ]
          },
          "execution_count": 23,
          "metadata": {},
          "output_type": "execute_result"
        }
      ],
      "source": [
        "rfeval = cross_val_score(estimator=rfc, X=x_train, y=y_train, cv=10)\n",
        "rfeval.mean()"
      ]
    },
    {
      "cell_type": "code",
      "execution_count": null,
      "metadata": {
        "id": "LFo4GdQYoHyX",
        "outputId": "186d2a55-0f63-4e9c-efaf-0dd5926d1c6f"
      },
      "outputs": [
        {
          "data": {
            "text/plain": [
              "0.8039778955060285"
            ]
          },
          "execution_count": 25,
          "metadata": {},
          "output_type": "execute_result"
        }
      ],
      "source": [
        "rf_optimized = RandomForestClassifier(n_estimators=50, min_samples_split=2, min_samples_leaf=1, max_features='auto', max_depth = None, bootstrap = True)\n",
        "rf_optimized.fit(x_train, y_train)\n",
        "\n",
        "rfeval = cross_val_score(estimator=rf_optimized, X=x_train, y=y_train, cv=10)\n",
        "rfeval.mean()\n"
      ]
    },
    {
      "cell_type": "code",
      "execution_count": null,
      "metadata": {
        "id": "7tYrNddvoHyX"
      },
      "outputs": [],
      "source": []
    }
  ],
  "metadata": {
    "kernelspec": {
      "display_name": "Python 3",
      "language": "python",
      "name": "python3"
    },
    "language_info": {
      "codemirror_mode": {
        "name": "ipython",
        "version": 3
      },
      "file_extension": ".py",
      "mimetype": "text/x-python",
      "name": "python",
      "nbconvert_exporter": "python",
      "pygments_lexer": "ipython3",
      "version": "3.8.5"
    },
    "colab": {
      "provenance": []
    }
  },
  "nbformat": 4,
  "nbformat_minor": 0
}